{
 "cells": [
  {
   "cell_type": "markdown",
   "metadata": {},
   "source": [
    "# Concurrent 패키지\n",
    "* https://docs.python.org/3/library/concurrent.futures.html\n",
    "* http://masnun.com/2016/03/29/python-a-quick-introduction-to-the-concurrent-futures-module.html\n",
    "\n",
    "\n",
    "* v3.2부터 구현\n",
    "* 스레드를 이용한 asynchronous execution: `ThreadPoolExecutor`\n",
    "* 별도 프로세스를 이용한 asynchronous execution: `ProcessPoolExecutor`\n",
    "* 둘 다 `Executor` 클래스에 같은 인터페이스로 정의됨"
   ]
  },
  {
   "cell_type": "markdown",
   "metadata": {},
   "source": [
    "## `class Executor`\n",
    "- 직접 사용되지 않고 subclass 구현을 통해 활용됨\n",
    "- `ThreadPoolExecutor`와 `ProcessPoolExecutor` 두 서브클래스 존재\n",
    "\n",
    "\n",
    "- __`submit(fn, *args, **kargs)`__\n",
    "  - `fn(*args, **kargs)`을 실행되도록 스케줄링\n",
    "  - `Future` 객체 반환\n",
    "- __`map(func, *iterables, timeout=None, chunksize=1)`__\n",
    "  - `map(func, *iterables)`와 같으나 asynchronous하게 실행된다는 점과 `func`이 concurrent하게 실행된다는 점이 다름\n",
    "- __`shutdown(wait=True)`__\n",
    "  - executor에게 사용 중인 자원을 내어놓도록 signal을 보냄"
   ]
  },
  {
   "cell_type": "markdown",
   "metadata": {},
   "source": [
    "## `class ThreadPoolExecutor(max_workers=None)`\n",
    "- `max_workers`는 (프로세서 개수*5)로 기본값\n",
    "- 데드락 발생 가능성 주의\n",
    "----\n",
    "```python\n",
    "import time\n",
    "def wait_on_b():\n",
    "    time.sleep(5)\n",
    "    print(b.result())  # a를 기다리느라 b는 완료되지 못함\n",
    "    return 5\n",
    "\n",
    "def wait_on_a():\n",
    "    time.sleep(5)\n",
    "    print(a.result())  # b를 기다리느라 a는 완료되지 못함\n",
    "    return 6\n",
    "\n",
    "\n",
    "executor = ThreadPoolExecutor(max_workers=2)\n",
    "a = executor.submit(wait_on_b)\n",
    "b = executor.submit(wait_on_a)```"
   ]
  },
  {
   "cell_type": "markdown",
   "metadata": {},
   "source": [
    "----\n",
    "```python\n",
    "def wait_on_future():\n",
    "    f = executor.submit(pow, 5, 2)\n",
    "    # 스레드는 하나만 생성가능한데, 이 함수를 또 실행하려고 하므로\n",
    "    # 이 함수는 실행되지 못함\n",
    "    print(f.result())\n",
    "\n",
    "executor = ThreadPoolExecutor(max_workers=1)\n",
    "executor.submit(wait_on_future)```\n",
    "____"
   ]
  },
  {
   "cell_type": "markdown",
   "metadata": {},
   "source": [
    "### `ThreadPoolExecutor` 예제"
   ]
  },
  {
   "cell_type": "code",
   "execution_count": 1,
   "metadata": {},
   "outputs": [
    {
     "name": "stdout",
     "output_type": "stream",
     "text": [
      "submit 직후:  False\n",
      "5초 지난 후:  True\n",
      "결과:  hello\n",
      "CPU times: user 8 ms, sys: 0 ns, total: 8 ms\n",
      "Wall time: 5.01 s\n"
     ]
    }
   ],
   "source": [
    "%%time\n",
    "from concurrent.futures import ThreadPoolExecutor\n",
    "from time import sleep\n",
    " \n",
    "def return_after_5_secs(message):\n",
    "    sleep(5)\n",
    "    return message\n",
    "\n",
    "\n",
    "pool = ThreadPoolExecutor(3)\n",
    "future = pool.submit(return_after_5_secs, (\"hello\"))\n",
    "print('submit 직후: ', future.done())\n",
    "\n",
    "sleep(5)\n",
    "\n",
    "print('5초 지난 후: ', future.done())\n",
    "print('결과: ', future.result())"
   ]
  },
  {
   "cell_type": "code",
   "execution_count": 2,
   "metadata": {},
   "outputs": [
    {
     "name": "stdout",
     "output_type": "stream",
     "text": [
      "'http://www.foxnews.com/' page is 225141 bytes\n",
      "'http://some-made-up-domain.com/' generated an exception: <urlopen error [Errno -2] Name or service not known>\n",
      "'http://www.cnn.com/' page is 154947 bytes\n",
      "'http://europe.wsj.com/' page is 911144 bytes\n",
      "'http://www.bbc.co.uk/' page is 274394 bytes\n"
     ]
    }
   ],
   "source": [
    "import concurrent.futures\n",
    "import urllib.request\n",
    "\n",
    "URLS = ['http://www.foxnews.com/',\n",
    "        'http://www.cnn.com/',\n",
    "        'http://europe.wsj.com/',\n",
    "        'http://www.bbc.co.uk/',\n",
    "        'http://some-made-up-domain.com/']\n",
    "\n",
    "# 하나의 페이지를 추출하여, URL과 내용을 반환\n",
    "def load_url(url, timeout):\n",
    "    with urllib.request.urlopen(url, timeout=timeout) as conn:\n",
    "        return conn.read()\n",
    "\n",
    "# with문을 사용하여 스레드가 즉시 끝내도록 함\n",
    "with concurrent.futures.ThreadPoolExecutor(max_workers=5) as executor:\n",
    "    future_to_url = {executor.submit(load_url, url, 60): url for url in URLS}\n",
    "    for future in concurrent.futures.as_completed(future_to_url):\n",
    "        url = future_to_url[future]\n",
    "        try:\n",
    "            data = future.result()\n",
    "        except Exception as exc:\n",
    "            print('%r generated an exception: %s' % (url, exc))\n",
    "        else:\n",
    "            print('%r page is %d bytes' % (url, len(data)))"
   ]
  },
  {
   "cell_type": "markdown",
   "metadata": {},
   "source": [
    "## `class ProcessPoolExecutor(max_workers=None)`\n",
    "- interactive 불가능\n",
    "- `max_workers` 기본값은 프로세서 개수"
   ]
  },
  {
   "cell_type": "markdown",
   "metadata": {},
   "source": [
    "### `ProcessPoolExcecutor` 예제"
   ]
  },
  {
   "cell_type": "code",
   "execution_count": 3,
   "metadata": {},
   "outputs": [
    {
     "name": "stdout",
     "output_type": "stream",
     "text": [
      "submit 직후:  False\n",
      "5초 지난 후:  False\n",
      "결과:  hello\n",
      "CPU times: user 4 ms, sys: 20 ms, total: 24 ms\n",
      "Wall time: 5.02 s\n"
     ]
    }
   ],
   "source": [
    "%%time\n",
    "from concurrent.futures import ProcessPoolExecutor\n",
    "from time import sleep\n",
    " \n",
    "def return_after_5_secs(message):\n",
    "    sleep(5)\n",
    "    return message\n",
    " \n",
    "pool = ProcessPoolExecutor(3)\n",
    " \n",
    "future = pool.submit(return_after_5_secs, (\"hello\"))\n",
    "print('submit 직후: ', future.done())\n",
    "\n",
    "sleep(5)\n",
    "\n",
    "print('5초 지난 후: ', future.done())\n",
    "print('결과: ', future.result())"
   ]
  },
  {
   "cell_type": "code",
   "execution_count": 4,
   "metadata": {},
   "outputs": [
    {
     "name": "stdout",
     "output_type": "stream",
     "text": [
      "112272535095293 is prime: True\n",
      "112582705942171 is prime: True\n",
      "112272535095293 is prime: True\n",
      "115280095190773 is prime: True\n",
      "115797848077099 is prime: True\n",
      "1099726899285419 is prime: False\n"
     ]
    }
   ],
   "source": [
    "import concurrent.futures\n",
    "import math\n",
    "\n",
    "PRIMES = [\n",
    "    112272535095293,\n",
    "    112582705942171,\n",
    "    112272535095293,\n",
    "    115280095190773,\n",
    "    115797848077099,\n",
    "    1099726899285419]\n",
    "\n",
    "def is_prime(n):\n",
    "    if n % 2 == 0:\n",
    "        return False\n",
    "\n",
    "    sqrt_n = int(math.floor(math.sqrt(n)))\n",
    "    for i in range(3, sqrt_n + 1, 2):\n",
    "        if n % i == 0:\n",
    "            return False\n",
    "    return True\n",
    "\n",
    "def main():\n",
    "    with concurrent.futures.ProcessPoolExecutor() as executor:\n",
    "        # executor.map()\n",
    "        for number, prime in zip(PRIMES, executor.map(is_prime, PRIMES)):\n",
    "            print('%d is prime: %s' % (number, prime))\n",
    "\n",
    "if __name__ == '__main__':\n",
    "    main()"
   ]
  },
  {
   "cell_type": "markdown",
   "metadata": {},
   "source": [
    "## `Future` 객체\n",
    "* 호출가능한 것들(예: 함수)의 asynchronous execution을 은닉화\n",
    "* `Executor.submit()`으로 생성\n",
    "\n",
    "\n",
    "* __`cancel()`__\n",
    "* __`cancelled()`__\n",
    "* __`running()`__\n",
    "* __`done()`__\n",
    "* __`result(timeout=None)`__\n",
    "* __`exception(timeout=None)`__\n",
    "* __`add_done_callback(fn)`__\n",
    "\n",
    "\n",
    "* __`set_running_or_notify_cancle()`__\n",
    "* __`set_result(result)`__\n",
    "* __ `set_exception(exception)`__"
   ]
  },
  {
   "cell_type": "markdown",
   "metadata": {},
   "source": [
    "## 모듈 함수\n",
    "* `concurrent.futures.`__`as_completed(fs, timeout=None)`__\n",
    "  - `map()`은 전달하는 iterable 순서대로 결과를 반환하는 반면,\n",
    "  - `as_completed()`는 완료되는 순서대로 결과를 반환\n",
    "* `concurrent.futures.`__`wait(fs, timeout=None, return_when=ALL_COMPLETED)`__\n",
    "  - tuple 반환 : (완료된 future들(결과 또는 예외), 완료되지 않은 future들)\n",
    "  - `return_when`값은 `FIRST_COMPLETED`, `FIRST_EXCEPTION`, `ALL_COMPLETED` 중 하나"
   ]
  },
  {
   "cell_type": "code",
   "execution_count": 5,
   "metadata": {},
   "outputs": [
    {
     "name": "stdout",
     "output_type": "stream",
     "text": [
      "Return of 2\n",
      "Return of 3\n",
      "Return of 0\n",
      "Return of 1\n",
      "Return of 4\n"
     ]
    }
   ],
   "source": [
    "from concurrent.futures import ThreadPoolExecutor, wait, as_completed\n",
    "from time import sleep\n",
    "from random import randint\n",
    "\n",
    "def return_after_5_secs(num):\n",
    "    sleep(randint(1, 5))\n",
    "    return \"Return of {}\".format(num)\n",
    "\n",
    "pool = ThreadPoolExecutor(5)\n",
    "futures = []\n",
    "for x in range(5):\n",
    "    futures.append(pool.submit(return_after_5_secs, x))\n",
    "\n",
    "# concurrent.futures.as_completed()\n",
    "for x in as_completed(futures):\n",
    "    print(x.result())"
   ]
  },
  {
   "cell_type": "code",
   "execution_count": 6,
   "metadata": {},
   "outputs": [
    {
     "name": "stdout",
     "output_type": "stream",
     "text": [
      "DoneAndNotDoneFutures(done={<Future at 0x7fb61851a518 state=finished returned str>}, not_done={<Future at 0x7fb618d78c88 state=running>, <Future at 0x7fb618d78828 state=running>, <Future at 0x7fb61851aac8 state=running>, <Future at 0x7fb62003c978 state=running>})\n"
     ]
    }
   ],
   "source": [
    "from concurrent.futures import ThreadPoolExecutor, wait, as_completed\n",
    "from time import sleep\n",
    "from random import randint\n",
    "\n",
    "def return_after_5_secs(num):\n",
    "    sleep(randint(1, 5))\n",
    "    return \"Return of {}\".format(num)\n",
    "\n",
    "pool = ThreadPoolExecutor(5)\n",
    "futures = []\n",
    "for x in range(5):\n",
    "    futures.append(pool.submit(return_after_5_secs, x))\n",
    "\n",
    "# wait()\n",
    "print(wait(futures, return_when='FIRST_COMPLETED'))"
   ]
  },
  {
   "cell_type": "code",
   "execution_count": null,
   "metadata": {
    "collapsed": true
   },
   "outputs": [],
   "source": []
  }
 ],
 "metadata": {
  "kernelspec": {
   "display_name": "Python 3",
   "language": "python",
   "name": "python3"
  },
  "language_info": {
   "codemirror_mode": {
    "name": "ipython",
    "version": 3
   },
   "file_extension": ".py",
   "mimetype": "text/x-python",
   "name": "python",
   "nbconvert_exporter": "python",
   "pygments_lexer": "ipython3",
   "version": "3.5.2"
  }
 },
 "nbformat": 4,
 "nbformat_minor": 2
}
