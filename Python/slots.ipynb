{
 "cells": [
  {
   "cell_type": "markdown",
   "metadata": {},
   "source": [
    "# Python `__slots__`\n",
    "* 참고: https://www.chrisbarra.xyz/posts/let-me-introduce-slots/"
   ]
  },
  {
   "cell_type": "markdown",
   "metadata": {},
   "source": [
    "* `getsizeof`를 활용하여 객체의 메모리 점유 크기 파악"
   ]
  },
  {
   "cell_type": "code",
   "execution_count": 1,
   "metadata": {},
   "outputs": [],
   "source": [
    "from sys import getsizeof"
   ]
  },
  {
   "cell_type": "code",
   "execution_count": 2,
   "metadata": {},
   "outputs": [],
   "source": [
    "class SimpleClass():\n",
    "    def __init__(self, message):\n",
    "        self.message = message\n",
    "        self.capital_message = self.make_it_bigger()\n",
    "        \n",
    "    def make_it_bigger(self):\n",
    "        return self.message.upper()\n",
    "    \n",
    "    def scream_message(self):\n",
    "        print(self.capital_message)"
   ]
  },
  {
   "cell_type": "code",
   "execution_count": 3,
   "metadata": {},
   "outputs": [],
   "source": [
    "my_instance = SimpleClass(\"My Message\")"
   ]
  },
  {
   "cell_type": "markdown",
   "metadata": {},
   "source": [
    "### 파이썬이 사용하는 특별한 속성: `__dict__`\n",
    "* 파이썬에서 인스턴스의 속성을 저장하는 공간\n",
    "* `instanace.attribute_name` 또는 `instance.__dict__['attribute_name']` 형식으로 접근"
   ]
  },
  {
   "cell_type": "code",
   "execution_count": 5,
   "metadata": {},
   "outputs": [
    {
     "data": {
      "text/plain": [
       "['__class__',\n",
       " '__delattr__',\n",
       " '__dict__',\n",
       " '__dir__',\n",
       " '__doc__',\n",
       " '__eq__',\n",
       " '__format__',\n",
       " '__ge__',\n",
       " '__getattribute__',\n",
       " '__gt__',\n",
       " '__hash__',\n",
       " '__init__',\n",
       " '__le__',\n",
       " '__lt__',\n",
       " '__module__',\n",
       " '__ne__',\n",
       " '__new__',\n",
       " '__reduce__',\n",
       " '__reduce_ex__',\n",
       " '__repr__',\n",
       " '__setattr__',\n",
       " '__sizeof__',\n",
       " '__str__',\n",
       " '__subclasshook__',\n",
       " '__weakref__',\n",
       " 'capital_message',\n",
       " 'make_it_bigger',\n",
       " 'message',\n",
       " 'scream_message']"
      ]
     },
     "execution_count": 5,
     "metadata": {},
     "output_type": "execute_result"
    }
   ],
   "source": [
    "dir(my_instance)"
   ]
  },
  {
   "cell_type": "code",
   "execution_count": 4,
   "metadata": {},
   "outputs": [
    {
     "data": {
      "text/plain": [
       "['__dict__']"
      ]
     },
     "execution_count": 4,
     "metadata": {},
     "output_type": "execute_result"
    }
   ],
   "source": [
    "[element for element in dir(my_instance) if element == '__dict__']"
   ]
  },
  {
   "cell_type": "code",
   "execution_count": 6,
   "metadata": {},
   "outputs": [
    {
     "data": {
      "text/plain": [
       "{'capital_message': 'MY MESSAGE', 'message': 'My Message'}"
      ]
     },
     "execution_count": 6,
     "metadata": {},
     "output_type": "execute_result"
    }
   ],
   "source": [
    "my_instance.__dict__"
   ]
  },
  {
   "cell_type": "code",
   "execution_count": 7,
   "metadata": {},
   "outputs": [
    {
     "data": {
      "text/plain": [
       "{'capital_message': 'MY MESSAGE',\n",
       " 'message': 'My Message',\n",
       " 'new_message': 'New Message'}"
      ]
     },
     "execution_count": 7,
     "metadata": {},
     "output_type": "execute_result"
    }
   ],
   "source": [
    "my_instance.new_message = \"New Message\"\n",
    "my_instance.__dict__"
   ]
  },
  {
   "cell_type": "code",
   "execution_count": 8,
   "metadata": {},
   "outputs": [
    {
     "data": {
      "text/plain": [
       "{'another_message': 'Yet Another Message',\n",
       " 'capital_message': 'MY MESSAGE',\n",
       " 'message': 'My Message',\n",
       " 'new_message': 'New Message'}"
      ]
     },
     "execution_count": 8,
     "metadata": {},
     "output_type": "execute_result"
    }
   ],
   "source": [
    "my_instance.__dict__['another_message'] = \"Yet Another Message\"\n",
    "my_instance.__dict__"
   ]
  },
  {
   "cell_type": "markdown",
   "metadata": {},
   "source": [
    "### 저장소로서의 `dict`\n",
    "* access time = $O(1)$ : 즉 dictionary의 크기와 무관"
   ]
  },
  {
   "cell_type": "code",
   "execution_count": 9,
   "metadata": {},
   "outputs": [],
   "source": [
    "class ClassWithSlots():\n",
    "    __slots__ = [\"message\", \"capital_message\"]   # 이 부분만 다름\n",
    "    \n",
    "    def __init__(self, message):\n",
    "        self.message = message\n",
    "        self.capital_message = self.make_it_bigger()\n",
    "        \n",
    "    def make_it_bigger(self):\n",
    "        return self.message.upper()\n",
    "    \n",
    "    def scream_message(self):\n",
    "        print(self.capital_message)"
   ]
  },
  {
   "cell_type": "code",
   "execution_count": 10,
   "metadata": {},
   "outputs": [],
   "source": [
    "my_instance = ClassWithSlots(\"My Message\")"
   ]
  },
  {
   "cell_type": "code",
   "execution_count": 11,
   "metadata": {},
   "outputs": [
    {
     "data": {
      "text/plain": [
       "[]"
      ]
     },
     "execution_count": 11,
     "metadata": {},
     "output_type": "execute_result"
    }
   ],
   "source": [
    "# 이전과 결과 다름\n",
    "[element for element in dir(my_instance) if element == '__dict__']"
   ]
  },
  {
   "cell_type": "code",
   "execution_count": 12,
   "metadata": {},
   "outputs": [
    {
     "data": {
      "text/plain": [
       "['__slots__']"
      ]
     },
     "execution_count": 12,
     "metadata": {},
     "output_type": "execute_result"
    }
   ],
   "source": [
    "# __dict__ 없는 대신 __slots__ 존재\n",
    "[element for element in dir(my_instance) if element == '__slots__']"
   ]
  },
  {
   "cell_type": "code",
   "execution_count": 13,
   "metadata": {},
   "outputs": [
    {
     "data": {
      "text/plain": [
       "'My Message'"
      ]
     },
     "execution_count": 13,
     "metadata": {},
     "output_type": "execute_result"
    }
   ],
   "source": [
    "my_instance.message"
   ]
  },
  {
   "cell_type": "code",
   "execution_count": 14,
   "metadata": {},
   "outputs": [
    {
     "data": {
      "text/plain": [
       "'MY MESSAGE'"
      ]
     },
     "execution_count": 14,
     "metadata": {},
     "output_type": "execute_result"
    }
   ],
   "source": [
    "my_instance.capital_message"
   ]
  },
  {
   "cell_type": "code",
   "execution_count": 15,
   "metadata": {},
   "outputs": [
    {
     "ename": "AttributeError",
     "evalue": "'ClassWithSlots' object has no attribute 'new_message'",
     "output_type": "error",
     "traceback": [
      "\u001b[0;31m---------------------------------------------------------------------------\u001b[0m",
      "\u001b[0;31mAttributeError\u001b[0m                            Traceback (most recent call last)",
      "\u001b[0;32m<ipython-input-15-000c2cdb77a8>\u001b[0m in \u001b[0;36m<module>\u001b[0;34m()\u001b[0m\n\u001b[1;32m      1\u001b[0m \u001b[0;31m# 이전과 달리 오류\u001b[0m\u001b[0;34m\u001b[0m\u001b[0;34m\u001b[0m\u001b[0m\n\u001b[0;32m----> 2\u001b[0;31m \u001b[0mmy_instance\u001b[0m\u001b[0;34m.\u001b[0m\u001b[0mnew_message\u001b[0m \u001b[0;34m=\u001b[0m \u001b[0;34m\"New Message\"\u001b[0m\u001b[0;34m\u001b[0m\u001b[0m\n\u001b[0m",
      "\u001b[0;31mAttributeError\u001b[0m: 'ClassWithSlots' object has no attribute 'new_message'"
     ]
    }
   ],
   "source": [
    "# 이전과 달리 오류\n",
    "my_instance.new_message = \"New Message\""
   ]
  },
  {
   "cell_type": "code",
   "execution_count": 16,
   "metadata": {},
   "outputs": [],
   "source": [
    "# 이미 정의되어 있는 변수는 변경 가능\n",
    "my_instance.message = \"My Replaced Message\""
   ]
  },
  {
   "cell_type": "markdown",
   "metadata": {},
   "source": [
    "### `__dict__` 메모리 점유"
   ]
  },
  {
   "cell_type": "code",
   "execution_count": 27,
   "metadata": {},
   "outputs": [],
   "source": [
    "my_instance_without_slots = SimpleClass(\"My Message\")\n",
    "my_instance_with_slots = ClassWithSlots(\"My Message\")"
   ]
  },
  {
   "cell_type": "code",
   "execution_count": 28,
   "metadata": {},
   "outputs": [
    {
     "data": {
      "text/plain": [
       "56"
      ]
     },
     "execution_count": 28,
     "metadata": {},
     "output_type": "execute_result"
    }
   ],
   "source": [
    "getsizeof(my_instance_without_slots)  # bytes"
   ]
  },
  {
   "cell_type": "code",
   "execution_count": 29,
   "metadata": {},
   "outputs": [
    {
     "data": {
      "text/plain": [
       "56"
      ]
     },
     "execution_count": 29,
     "metadata": {},
     "output_type": "execute_result"
    }
   ],
   "source": [
    "getsizeof(my_instance_with_slots)   # bytes"
   ]
  },
  {
   "cell_type": "markdown",
   "metadata": {},
   "source": [
    "* 클래스의 `getsizeof`는 참조하고 있는 객체들을 반영하지 못함"
   ]
  },
  {
   "cell_type": "code",
   "execution_count": 30,
   "metadata": {},
   "outputs": [
    {
     "data": {
      "text/plain": [
       "{'capital_message': 'MY MESSAGE', 'message': 'My Message'}"
      ]
     },
     "execution_count": 30,
     "metadata": {},
     "output_type": "execute_result"
    }
   ],
   "source": [
    "my_instance_without_slots.__dict__"
   ]
  },
  {
   "cell_type": "code",
   "execution_count": 31,
   "metadata": {},
   "outputs": [
    {
     "data": {
      "text/plain": [
       "(128, 56)"
      ]
     },
     "execution_count": 31,
     "metadata": {},
     "output_type": "execute_result"
    }
   ],
   "source": [
    "getsizeof(my_instance_without_slots.__dict__), getsizeof(my_instance_without_slots)"
   ]
  },
  {
   "cell_type": "code",
   "execution_count": 34,
   "metadata": {},
   "outputs": [
    {
     "data": {
      "text/plain": [
       "{'capital_message': 'MY MESSAGE',\n",
       " 'message': 'My Message',\n",
       " 'new_attribute_1': 'This is a new attribute 1',\n",
       " 'new_attribute_2': 'This is a new attribute 2',\n",
       " 'new_attribute_3': 'This is a new attribute 3'}"
      ]
     },
     "execution_count": 34,
     "metadata": {},
     "output_type": "execute_result"
    }
   ],
   "source": [
    "my_instance_without_slots.new_attribute_1 = \"This is a new attribute 1\"\n",
    "my_instance_without_slots.new_attribute_2 = \"This is a new attribute 2\"\n",
    "my_instance_without_slots.new_attribute_3 = \"This is a new attribute 3\"\n",
    "my_instance_without_slots.__dict__"
   ]
  },
  {
   "cell_type": "code",
   "execution_count": 35,
   "metadata": {},
   "outputs": [
    {
     "data": {
      "text/plain": [
       "(480, 56)"
      ]
     },
     "execution_count": 35,
     "metadata": {},
     "output_type": "execute_result"
    }
   ],
   "source": [
    "getsizeof(my_instance_without_slots.__dict__), getsizeof(my_instance_without_slots)"
   ]
  },
  {
   "cell_type": "markdown",
   "metadata": {},
   "source": [
    "* `__dict__`의 크기가 변함"
   ]
  },
  {
   "cell_type": "code",
   "execution_count": 41,
   "metadata": {},
   "outputs": [
    {
     "data": {
      "text/plain": [
       "{0: '0',\n",
       " 1: '1',\n",
       " 2: '2',\n",
       " 3: '3',\n",
       " 4: '4',\n",
       " 5: '5',\n",
       " 6: '6',\n",
       " 7: '7',\n",
       " 8: '8',\n",
       " 9: '9',\n",
       " 'capital_message': 'MY MESSAGE',\n",
       " 'message': 'My Message',\n",
       " 'new_attribute_1': 'This is a new attribute 1',\n",
       " 'new_attribute_2': 'This is a new attribute 2',\n",
       " 'new_attribute_3': 'This is a new attribute 3'}"
      ]
     },
     "execution_count": 41,
     "metadata": {},
     "output_type": "execute_result"
    }
   ],
   "source": [
    "for i in range(10):\n",
    "    my_instance_without_slots.__dict__[i] = str(i)\n",
    "    \n",
    "my_instance_without_slots.__dict__"
   ]
  },
  {
   "cell_type": "code",
   "execution_count": 42,
   "metadata": {},
   "outputs": [
    {
     "data": {
      "text/plain": [
       "(864, 56)"
      ]
     },
     "execution_count": 42,
     "metadata": {},
     "output_type": "execute_result"
    }
   ],
   "source": [
    "getsizeof(my_instance_without_slots.__dict__), getsizeof(my_instance_without_slots)"
   ]
  },
  {
   "cell_type": "markdown",
   "metadata": {},
   "source": [
    "### 일반 클래스와 달리 `__slots__`를 사용한 경우"
   ]
  },
  {
   "cell_type": "code",
   "execution_count": 43,
   "metadata": {},
   "outputs": [],
   "source": [
    "import json\n",
    "\n",
    "my_json = '''{\n",
    "    \"username\": \"use@python3.org\",\n",
    "    \"country\": \"Poland\", \"website\":\n",
    "    \"www.chrisbarra.xzy\",\n",
    "    \"date\": \"2017/08/15\",\n",
    "    \"uid\": 1, \"gender\": \"Male\"\n",
    "}'''"
   ]
  },
  {
   "cell_type": "code",
   "execution_count": 44,
   "metadata": {},
   "outputs": [],
   "source": [
    "class MyUserWithSlots():\n",
    "    \"\"\"슬롯을 가진 클래스\"\"\"\n",
    "    \n",
    "    __slots__ = ('username', 'country', 'website', 'date')\n",
    "    \n",
    "    def __init__ (self, username, country, website, date, **kwargs):\n",
    "        self.username = username\n",
    "        self.country = country\n",
    "        self.website = website\n",
    "        self.date = date\n",
    "        \n",
    "\n",
    "class MyUserWithoutSlots():\n",
    "    \"\"\"슬롯을 사용하지 않은 일반 클래스\"\"\"\n",
    "    \n",
    "    def __init__ (self, username, country, website, date, **kwargs):\n",
    "        self.username = username\n",
    "        self.country = country\n",
    "        self.website = website\n",
    "        self.date = date"
   ]
  },
  {
   "cell_type": "code",
   "execution_count": 45,
   "metadata": {},
   "outputs": [],
   "source": [
    "def get_size(instance):\n",
    "    \"\"\"__dict__가 있는 경우, 그 크기를 추가 계산\"\"\"\n",
    "    \n",
    "    size_dict = 0\n",
    "    \n",
    "    try:\n",
    "        size_dict = getsizeof(instance.__dict__)\n",
    "    except AttributeError:\n",
    "        pass\n",
    "    \n",
    "    return size_dict + getsizeof(instance)"
   ]
  },
  {
   "cell_type": "code",
   "execution_count": 46,
   "metadata": {},
   "outputs": [],
   "source": [
    "# 1,000,000개 인스턴스 생성할 것임\n",
    "NUM_INSTANCES = 1000000"
   ]
  },
  {
   "cell_type": "code",
   "execution_count": 47,
   "metadata": {},
   "outputs": [
    {
     "name": "stdout",
     "output_type": "stream",
     "text": [
      "전체 크기는 72.0 MB\n"
     ]
    }
   ],
   "source": [
    "# 슬롯 있는 클래스로 인스턴스들을 만들고 각 크기들을 리스트에 담음\n",
    "with_slots = [get_size(MyUserWithSlots(**json.loads(my_json))) \n",
    "              for _ in range(NUM_INSTANCES)]\n",
    "\n",
    "# 리스트 내 값들을 모두 더함\n",
    "size_with_slots = sum(with_slots)/1000000\n",
    "\n",
    "print(\"전체 크기는 {} MB\".format(size_with_slots))"
   ]
  },
  {
   "cell_type": "code",
   "execution_count": 48,
   "metadata": {},
   "outputs": [
    {
     "name": "stdout",
     "output_type": "stream",
     "text": [
      "전체 크기는 248.0 MB\n"
     ]
    }
   ],
   "source": [
    "# 슬롯 없는 클래스로 인스턴스들을 만들고 각 크기들을 리스트에 담음\n",
    "without_slots = [get_size(MyUserWithoutSlots(**json.loads(my_json))) \n",
    "                 for _ in range(NUM_INSTANCES)]\n",
    "\n",
    "# 리스트 내 값들을 모두 더함\n",
    "size_without_slots = sum(without_slots)/1000000\n",
    "\n",
    "print(\"전체 크기는 {} MB\".format(size_without_slots))"
   ]
  },
  {
   "cell_type": "markdown",
   "metadata": {},
   "source": [
    "### 접근 시간 비교\n",
    "* `__slots__`를 사용한 경우가 약간 빠름"
   ]
  },
  {
   "cell_type": "code",
   "execution_count": 49,
   "metadata": {},
   "outputs": [],
   "source": [
    "instance_with_slots = MyUserWithSlots(**json.loads(my_json))"
   ]
  },
  {
   "cell_type": "code",
   "execution_count": 50,
   "metadata": {},
   "outputs": [
    {
     "name": "stdout",
     "output_type": "stream",
     "text": [
      "70.4 ns ± 1.53 ns per loop (mean ± std. dev. of 7 runs, 10000000 loops each)\n"
     ]
    }
   ],
   "source": [
    "%%timeit\n",
    "z = instance_with_slots.username"
   ]
  },
  {
   "cell_type": "code",
   "execution_count": 51,
   "metadata": {},
   "outputs": [],
   "source": [
    "instance_without_slots = MyUserWithoutSlots(**json.loads(my_json))"
   ]
  },
  {
   "cell_type": "code",
   "execution_count": 52,
   "metadata": {},
   "outputs": [
    {
     "name": "stdout",
     "output_type": "stream",
     "text": [
      "76.8 ns ± 4.07 ns per loop (mean ± std. dev. of 7 runs, 10000000 loops each)\n"
     ]
    }
   ],
   "source": [
    "%%timeit\n",
    "z = instance_without_slots.username"
   ]
  },
  {
   "cell_type": "code",
   "execution_count": null,
   "metadata": {},
   "outputs": [],
   "source": []
  }
 ],
 "metadata": {
  "kernelspec": {
   "display_name": "Python 3",
   "language": "python",
   "name": "python3"
  },
  "language_info": {
   "codemirror_mode": {
    "name": "ipython",
    "version": 3
   },
   "file_extension": ".py",
   "mimetype": "text/x-python",
   "name": "python",
   "nbconvert_exporter": "python",
   "pygments_lexer": "ipython3",
   "version": "3.5.2"
  }
 },
 "nbformat": 4,
 "nbformat_minor": 2
}
