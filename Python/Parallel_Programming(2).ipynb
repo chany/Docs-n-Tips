{
 "cells": [
  {
   "cell_type": "markdown",
   "metadata": {},
   "source": [
    "# Process 기반 병렬 프로그래밍\n",
    "* Book - Python Prallel Programming Cookbook, Chapter 3.\n",
    "* 다음 코드들은 **command-line**에서 실행해야 함."
   ]
  },
  {
   "cell_type": "markdown",
   "metadata": {},
   "source": [
    "##  프로세스 생성(Spawn a Process)\n",
    "* object process 만들고,\n",
    "* `start()` 메소드를 실행시킨 후,\n",
    "* `join()` 메소드로 마무리"
   ]
  },
  {
   "cell_type": "code",
   "execution_count": 1,
   "metadata": {},
   "outputs": [
    {
     "name": "stdout",
     "output_type": "stream",
     "text": [
      "새로운 프로세스로 호출된 함수임: 0\n",
      "새로운 프로세스로 호출된 함수임: 1\n",
      "새로운 프로세스로 호출된 함수임: 2\n",
      "새로운 프로세스로 호출된 함수임: 3\n",
      "새로운 프로세스로 호출된 함수임: 4\n"
     ]
    }
   ],
   "source": [
    "import multiprocessing\n",
    "\n",
    "def foo(i):\n",
    "    print('새로운 프로세스로 호출된 함수임: %s' % i)\n",
    "    return\n",
    "\n",
    "if __name__ == '__main__':\n",
    "    Process_jobs = []\n",
    "    for i in range(5):\n",
    "        p = multiprocessing.Process(target=foo, args=(i,))\n",
    "        Process_jobs.append(p)\n",
    "        p.start()\n",
    "        p.join()  # join()이 없으면 자식프로세스는 끝나지 않고 idle상태로 남음"
   ]
  },
  {
   "cell_type": "markdown",
   "metadata": {},
   "source": [
    "## 프로세스 이름 짓기"
   ]
  },
  {
   "cell_type": "code",
   "execution_count": 2,
   "metadata": {},
   "outputs": [
    {
     "name": "stdout",
     "output_type": "stream",
     "text": [
      "시작: foo_process \n",
      "\n",
      "시작: Process-7 \n",
      "\n",
      "종료: foo_process \n",
      "\n",
      "종료: Process-7 \n",
      "\n"
     ]
    }
   ],
   "source": [
    "import multiprocessing\n",
    "import time\n",
    "\n",
    "def foo():\n",
    "    name = multiprocessing.current_process().name\n",
    "    print(\"시작: %s \\n\" % name)\n",
    "    time.sleep(3)\n",
    "    print(\"종료: %s \\n\" % name)\n",
    "    \n",
    "if __name__ == '__main__':\n",
    "    process_with_name = multiprocessing.Process(name='foo_process', target=foo)\n",
    "    process_with_name.daemon = True\n",
    "    process_with_default_name = multiprocessing.Process(target=foo)\n",
    "    process_with_name.start()\n",
    "    process_with_default_name.start()\n",
    "    process_with_name.join()\n",
    "    process_with_default_name.join()"
   ]
  },
  {
   "cell_type": "markdown",
   "metadata": {},
   "source": [
    "## 백그라운드로 프로세스 실행하기\n",
    "* `daemon` 파라미터를 `True`로 설정\n",
    "* 백그라운드 프로세스는 자식 프로세스를 생성할 수 없음"
   ]
  },
  {
   "cell_type": "code",
   "execution_count": 3,
   "metadata": {},
   "outputs": [
    {
     "name": "stdout",
     "output_type": "stream",
     "text": [
      "시작: background_process \n",
      "\n",
      "시작: No_background_process \n",
      "\n",
      "종료 background_process \n",
      "종료 No_background_process \n",
      "\n",
      "\n"
     ]
    }
   ],
   "source": [
    "import multiprocessing\n",
    "import time\n",
    "\n",
    "def foo():\n",
    "    name = multiprocessing.current_process().name\n",
    "    print(\"시작: %s \\n\" % name)\n",
    "    time.sleep(3)\n",
    "    print(\"종료 %s \\n\" % name)\n",
    "\n",
    "if __name__ == '__main__':\n",
    "    background_process = multiprocessing.Process(name='background_process', target=foo)\n",
    "    background_process.daemon = True\n",
    "    No_background_process = multiprocessing.Process(name='No_background_process', target=foo)\n",
    "    No_background_process.daemon = False\n",
    "\n",
    "    background_process.start()\n",
    "    No_background_process.start()\n",
    "    background_process.join()\n",
    "    No_background_process.join()"
   ]
  },
  {
   "cell_type": "markdown",
   "metadata": {},
   "source": [
    "## 프로세스 죽이기\n",
    "* `terminate()` 사용\n",
    "* `is_alive()` 사용하여 검증"
   ]
  },
  {
   "cell_type": "code",
   "execution_count": 5,
   "metadata": {},
   "outputs": [
    {
     "name": "stdout",
     "output_type": "stream",
     "text": [
      "실행하기 전 프로세스 is_alive(): <Process(Process-11, initial)> False\n",
      "프로세스 실행 중 is_alive(): <Process(Process-11, started)> True\n",
      "프로세스 terminate() 후 is_alive(): <Process(Process-11, started)> True\n",
      "프로세스 join() 후 is_alive(): <Process(Process-11, stopped[SIGTERM])> False\n",
      "프로세스 exit code: -15\n"
     ]
    }
   ],
   "source": [
    "import multiprocessing\n",
    "import time\n",
    "\n",
    "def foo():\n",
    "    print ('함수 시작')\n",
    "    time.sleep(0.1)\n",
    "    print ('함수 끝냄')\n",
    "\n",
    "if __name__ == '__main__':\n",
    "    p = multiprocessing.Process(target=foo)\n",
    "    print ('실행하기 전 프로세스 is_alive():', p, p.is_alive())\n",
    "\n",
    "    p.start()\n",
    "    print ('프로세스 실행 중 is_alive():', p, p.is_alive())\n",
    "\n",
    "    p.terminate()\n",
    "    print ('프로세스 terminate() 후 is_alive():', p, p.is_alive())\n",
    "\n",
    "    p.join()\n",
    "    print ('프로세스 join() 후 is_alive():', p, p.is_alive())\n",
    "    print ('프로세스 exit code:', p.exitcode)  # 0이면 에러 없음\n",
    "                                               # 0보다 크면, 에러 존재하며 코드 끝냄\n",
    "                                               # 0보다 작으면, -1*ExitCode 시그널로 죽임"
   ]
  },
  {
   "cell_type": "markdown",
   "metadata": {},
   "source": [
    "## subclass로 프로세스 사용하기\n",
    "* `Process` 클래스의 하위 클래스 정의\n",
    "* `__init__(self [, args])` 재정의하여 인수 추가\n",
    "* `run(self [, args])` 재정의하여 `Process`가 시작된 후 수행할 일 구현"
   ]
  },
  {
   "cell_type": "code",
   "execution_count": 6,
   "metadata": {},
   "outputs": [
    {
     "name": "stdout",
     "output_type": "stream",
     "text": [
      "프로세스 내 run() 메소드: MyProcess-12\n",
      "프로세스 내 run() 메소드: MyProcess-13\n",
      "프로세스 내 run() 메소드: MyProcess-14\n",
      "프로세스 내 run() 메소드: MyProcess-15\n",
      "프로세스 내 run() 메소드: MyProcess-16\n"
     ]
    }
   ],
   "source": [
    "import multiprocessing\n",
    "\n",
    "class MyProcess(multiprocessing.Process):\n",
    "    def run(self):\n",
    "        print ('프로세스 내 run() 메소드: %s' % self.name)\n",
    "        return\n",
    "\n",
    "if __name__ == '__main__':\n",
    "    jobs = []\n",
    "    for i in range(5):\n",
    "        p = MyProcess ()\n",
    "        jobs.append(p)\n",
    "        p.start()\n",
    "        p.join()"
   ]
  },
  {
   "cell_type": "markdown",
   "metadata": {},
   "source": [
    "## 프로세스들 간에 객체 교환\n",
    "* queues\n",
    "* pipes"
   ]
  },
  {
   "cell_type": "code",
   "execution_count": 7,
   "metadata": {},
   "outputs": [
    {
     "name": "stdout",
     "output_type": "stream",
     "text": [
      "생산 알림: producer-17가 아이템 186를 큐에 넣음\n",
      "현재 큐에 들어있는 아이템 개수: 1\n",
      "생산 알림: producer-17가 아이템 26를 큐에 넣음\n",
      "현재 큐에 들어있는 아이템 개수: 2\n",
      "생산 알림: producer-17가 아이템 183를 큐에 넣음\n",
      "현재 큐에 들어있는 아이템 개수: 3\n",
      "생산 알림: producer-17가 아이템 29를 큐에 넣음\n",
      "현재 큐에 들어있는 아이템 개수: 4\n",
      "생산 알림: producer-17가 아이템 234를 큐에 넣음\n",
      "소비 알림: consumer-18가 아이템 186를 큐에서 꺼냄\n",
      "현재 큐에 들어있는 아이템 개수: 4\n",
      "생산 알림: producer-17가 아이템 219를 큐에 넣음\n",
      "현재 큐에 들어있는 아이템 개수: 5\n",
      "생산 알림: producer-17가 아이템 46를 큐에 넣음\n",
      "현재 큐에 들어있는 아이템 개수: 6\n",
      "생산 알림: producer-17가 아이템 43를 큐에 넣음\n",
      "소비 알림: consumer-18가 아이템 26를 큐에서 꺼냄\n",
      "현재 큐에 들어있는 아이템 개수: 6\n",
      "생산 알림: producer-17가 아이템 208를 큐에 넣음\n",
      "현재 큐에 들어있는 아이템 개수: 7\n",
      "생산 알림: producer-17가 아이템 33를 큐에 넣음\n",
      "현재 큐에 들어있는 아이템 개수: 8\n",
      "소비 알림: consumer-18가 아이템 183를 큐에서 꺼냄\n",
      "소비 알림: consumer-18가 아이템 29를 큐에서 꺼냄\n",
      "소비 알림: consumer-18가 아이템 234를 큐에서 꺼냄\n",
      "소비 알림: consumer-18가 아이템 219를 큐에서 꺼냄\n",
      "소비 알림: consumer-18가 아이템 46를 큐에서 꺼냄\n",
      "소비 알림: consumer-18가 아이템 43를 큐에서 꺼냄\n",
      "소비 알림: consumer-18가 아이템 208를 큐에서 꺼냄\n",
      "소비 알림: consumer-18가 아이템 33를 큐에서 꺼냄\n",
      "큐 비어있음\n"
     ]
    }
   ],
   "source": [
    "import multiprocessing\n",
    "import random\n",
    "import time\n",
    "\n",
    "class producer(multiprocessing.Process):\n",
    "    def __init__(self, queue):\n",
    "        multiprocessing.Process.__init__(self)\n",
    "        self.queue = queue\n",
    "\n",
    "    def run(self) :\n",
    "        for i in range(10):\n",
    "            item = random.randint(0, 256)\n",
    "            self.queue.put(item)\n",
    "            print (\"생산 알림: {}가 아이템 {}를 큐에 넣음\".format(self.name, item))\n",
    "            time.sleep(1)\n",
    "            print (\"현재 큐에 들어있는 아이템 개수: %s\" % self.queue.qsize())\n",
    "            \n",
    "class consumer(multiprocessing.Process):\n",
    "    def __init__(self, queue):\n",
    "        multiprocessing.Process.__init__(self)\n",
    "        self.queue = queue\n",
    "\n",
    "    def run(self):\n",
    "        time.sleep(3)\n",
    "        while True:\n",
    "            if (self.queue.empty()):\n",
    "                print(\"큐 비어있음\")\n",
    "                break\n",
    "            else :\n",
    "                time.sleep(2)\n",
    "                item = self.queue.get()\n",
    "                print ('소비 알림: {}가 아이템 {}를 큐에서 꺼냄'.format(self.name, item))\n",
    "                time.sleep(1)\n",
    "\n",
    "if __name__ == '__main__':\n",
    "    queue = multiprocessing.Queue()\n",
    "    process_producer = producer(queue)\n",
    "    process_consumer = consumer(queue)\n",
    "    process_producer.start()\n",
    "    process_consumer.start()\n",
    "    process_producer.join()\n",
    "    process_consumer.join()"
   ]
  },
  {
   "cell_type": "code",
   "execution_count": 8,
   "metadata": {},
   "outputs": [
    {
     "name": "stdout",
     "output_type": "stream",
     "text": [
      "0\n",
      "1\n",
      "4\n",
      "9\n",
      "16\n",
      "25\n",
      "36\n",
      "49\n",
      "64\n",
      "81\n",
      "End\n"
     ]
    }
   ],
   "source": [
    "import multiprocessing\n",
    "\n",
    "def create_items(pipe):\n",
    "    output_pipe, _ = pipe\n",
    "    for item in range(10):\n",
    "        output_pipe.send(item)\n",
    "    output_pipe.close()\n",
    "\n",
    "def multiply_items(pipe_1, pipe_2):\n",
    "    close, input_pipe = pipe_1\n",
    "    close.close()\n",
    "    output_pipe, _ = pipe_2\n",
    "    try:\n",
    "        while True:\n",
    "            item = input_pipe.recv()\n",
    "            output_pipe.send(item * item)\n",
    "    except EOFError:\n",
    "        output_pipe.close()\n",
    "\n",
    "if __name__ == '__main__':\n",
    "    #First process pipe with numbers from 0 to 9\n",
    "    pipe_1 = multiprocessing.Pipe(True)\n",
    "    process_pipe_1 = multiprocessing.Process(target=create_items, args=(pipe_1,))\n",
    "    process_pipe_1.start()\n",
    "\n",
    "    #second pipe,\n",
    "    pipe_2 = multiprocessing.Pipe(True)\n",
    "    process_pipe_2 = multiprocessing.Process(target=multiply_items, args=(pipe_1, pipe_2,))\n",
    "    process_pipe_2.start()\n",
    "\n",
    "    pipe_1[0].close()\n",
    "    pipe_2[0].close()\n",
    "\n",
    "    try:\n",
    "        while True:\n",
    "            print (pipe_2[1].recv())\n",
    "    except EOFError:\n",
    "        print(\"End\")"
   ]
  },
  {
   "cell_type": "markdown",
   "metadata": {},
   "source": [
    "## 프로세스 동기화(synchronization)\n",
    "![Barrier](Python_Process_Parallelism-barrier.png)"
   ]
  },
  {
   "cell_type": "code",
   "execution_count": 10,
   "metadata": {},
   "outputs": [
    {
     "name": "stdout",
     "output_type": "stream",
     "text": [
      "process p1 - test_with_barrier ----> 2017-12-21 11:46:53.470492\n",
      "process p3 - test_without_barrier ----> 2017-12-21 11:46:53.474489\n",
      "process p2 - test_with_barrier ----> 2017-12-21 11:46:53.472623\n",
      "process p4 - test_without_barrier ----> 2017-12-21 11:46:53.477442\n"
     ]
    }
   ],
   "source": [
    "import multiprocessing\n",
    "from multiprocessing import Barrier, Lock, Process\n",
    "from time import time\n",
    "from datetime import datetime\n",
    "\n",
    "def test_with_barrier(synchronizer, serializer):\n",
    "    name = multiprocessing.current_process().name\n",
    "    synchronizer.wait()\n",
    "    now = time()\n",
    "    with serializer:\n",
    "        print(\"process %s ----> %s\" % (name, datetime.fromtimestamp(now)))\n",
    "\n",
    "def test_without_barrier():\n",
    "    name = multiprocessing.current_process().name\n",
    "    now = time()\n",
    "    print(\"process %s ----> %s\" % (name, datetime.fromtimestamp(now)))\n",
    "\n",
    "if __name__ == '__main__':\n",
    "    synchronizer = Barrier(2)  # 인수 2는 총 관리 프로세스가 2개임을 의미\n",
    "    serializer = Lock()\n",
    "    p1 = Process(name='p1 - test_with_barrier', target=test_with_barrier, args=(synchronizer, serializer))\n",
    "    p2 = Process(name='p2 - test_with_barrier', target=test_with_barrier, args=(synchronizer, serializer))\n",
    "    p3 = Process(name='p3 - test_without_barrier', target=test_without_barrier)\n",
    "    p4 = Process(name='p4 - test_without_barrier', target=test_without_barrier)\n",
    "\n",
    "    p1.start()\n",
    "    p2.start()\n",
    "    p3.start()\n",
    "    p4.start()\n",
    "\n",
    "    # p1과 p2는 같은 timestamp를 출력\n",
    "\n",
    "    p1.join()\n",
    "    p2.join()\n",
    "    p3.join()\n",
    "    p4.join()"
   ]
  },
  {
   "cell_type": "markdown",
   "metadata": {},
   "source": [
    "## 프로세스들 간 상태 관리\n",
    "* `Manager`는 공유 객체를 관리하는 서버 프로세스를 제어\n",
    "* 모든 프로세스들이 변경된 공유 객체를 최신으로 유지"
   ]
  },
  {
   "cell_type": "code",
   "execution_count": 11,
   "metadata": {},
   "outputs": [
    {
     "name": "stdout",
     "output_type": "stream",
     "text": [
      "key=1  value=2\n",
      "key=0  value=0\n",
      "key=2  value=4\n",
      "key=3  value=6\n",
      "key=5  value=10\n",
      "key=4  value=8\n",
      "key=6  value=12\n",
      "key=7  value=14\n",
      "key=8  value=16\n",
      "key=9  value=18\n",
      "Results: {0: 0, 1: 2, 2: 4, 3: 6, 4: 8, 5: 10, 6: 12, 7: 14, 8: 16, 9: 18}\n"
     ]
    }
   ],
   "source": [
    "import multiprocessing\n",
    "\n",
    "def worker(dictionary, key, item):\n",
    "    dictionary[key] = item\n",
    "    print(\"key=%i  value=%i\" % (key, item))\n",
    "\n",
    "if __name__ == '__main__':\n",
    "    mgr = multiprocessing.Manager()\n",
    "    dictionary = mgr.dict()\n",
    "    jobs = [ multiprocessing.Process(target=worker, args=(dictionary, i, i*2)) for i in range(10)]\n",
    "    for j in jobs:\n",
    "        j.start()\n",
    "    for j in jobs:\n",
    "        j.join()\n",
    "    print ('Results:', dictionary)"
   ]
  },
  {
   "cell_type": "markdown",
   "metadata": {},
   "source": [
    "## 프로세스 풀 사용\n",
    "* `Pool` 클래스는 다음 메소드 제공\n",
    "  - `apply()` : 결과가 준비될 때까지 멈춤\n",
    "  - `apply_async()` : 모든 자식 클래스들이 실행될 때까지 메인 스레드가 lock되지 않고 결과를 반환\n",
    "  - `map()` : python `map()`의 병렬 버전. 결과가 준비될 때까지 멈춤.\n",
    "  - `map_async()`"
   ]
  },
  {
   "cell_type": "code",
   "execution_count": 12,
   "metadata": {},
   "outputs": [
    {
     "name": "stdout",
     "output_type": "stream",
     "text": [
      "Pool : [0, 1, 4, 9, 16, 25, 36, 49, 64, 81, 100, 121, 144, 169, 196, 225, 256, 289, 324, 361, 400, 441, 484, 529, 576, 625, 676, 729, 784, 841, 900, 961, 1024, 1089, 1156, 1225, 1296, 1369, 1444, 1521, 1600, 1681, 1764, 1849, 1936, 2025, 2116, 2209, 2304, 2401, 2500, 2601, 2704, 2809, 2916, 3025, 3136, 3249, 3364, 3481, 3600, 3721, 3844, 3969, 4096, 4225, 4356, 4489, 4624, 4761, 4900, 5041, 5184, 5329, 5476, 5625, 5776, 5929, 6084, 6241, 6400, 6561, 6724, 6889, 7056, 7225, 7396, 7569, 7744, 7921, 8100, 8281, 8464, 8649, 8836, 9025, 9216, 9409, 9604, 9801]\n"
     ]
    }
   ],
   "source": [
    "def function_square(data):\n",
    "    result = data*data\n",
    "    return result\n",
    "\n",
    "if __name__ == '__main__':\n",
    "    inputs = list(range(100))\n",
    "    pool = multiprocessing.Pool(processes=4)\n",
    "    pool_outputs = pool.map(function_square, inputs)\n",
    "    pool.close()\n",
    "    pool.join()\n",
    "    print ('Pool :', pool_outputs)"
   ]
  },
  {
   "cell_type": "code",
   "execution_count": null,
   "metadata": {
    "collapsed": true
   },
   "outputs": [],
   "source": []
  }
 ],
 "metadata": {
  "kernelspec": {
   "display_name": "Python 3",
   "language": "python",
   "name": "python3"
  },
  "language_info": {
   "codemirror_mode": {
    "name": "ipython",
    "version": 3
   },
   "file_extension": ".py",
   "mimetype": "text/x-python",
   "name": "python",
   "nbconvert_exporter": "python",
   "pygments_lexer": "ipython3",
   "version": "3.5.2"
  }
 },
 "nbformat": 4,
 "nbformat_minor": 1
}
