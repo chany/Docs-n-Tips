{
 "cells": [
  {
   "cell_type": "markdown",
   "metadata": {},
   "source": [
    "# Thread 기반 병렬 프로그래밍\n",
    "* 참고: Book - Python Parallel Programming Cookbook 2장\n",
    "* 참고: https://www.youtube.com/playlist?list=PLGKQkV4guDKEv1DoK4LYdo2ZPLo6cyLbm"
   ]
  },
  {
   "cell_type": "markdown",
   "metadata": {},
   "source": [
    "## thread 생성\n",
    "* `threading` 모듈의 `Thread` 클래스의 인스턴스 생성 후 각각 실행\n",
    "* `Thread` 인스턴스 생성시 인수들은 다음과 같음\n",
    "\n",
    ">```python\n",
    "class threading.Thread(\n",
    "    group=None,    # 나중 사용을 위해 예약되어있어 사용되지 않음\n",
    "    target=None,   # thread가 시작되면서 실행할 함수\n",
    "    name=None,     # thread에 붙일 이름 (기본으로 `Thread-N`으로 지정됨)\n",
    "    args=(),       # `target`에 전달될 인수들(튜플)\n",
    "    kwargs={}      # `target`에 전달될 인수들(딕셔너리)\n",
    ")\n",
    "```"
   ]
  },
  {
   "cell_type": "code",
   "execution_count": null,
   "metadata": {},
   "outputs": [],
   "source": [
    "import time\n",
    "\n",
    "# thread로 실행할 함수(target)\n",
    "def thread_func(n, name):\n",
    "    print(\"Thread {}, {}초 동안 sleep.\".format(name, n))\n",
    "    time.sleep(n)\n",
    "    print(\"Thread {} 깨어남.\".format(name))"
   ]
  },
  {
   "cell_type": "code",
   "execution_count": null,
   "metadata": {},
   "outputs": [],
   "source": [
    "import threading\n",
    "\n",
    "# thread 생성\n",
    "t = threading.Thread(\n",
    "        target=thread_func, \n",
    "        name='sleeper', \n",
    "        args=(3, 'sleeper'))"
   ]
  },
  {
   "cell_type": "code",
   "execution_count": null,
   "metadata": {},
   "outputs": [],
   "source": [
    "# thread 시작한 직후, 다른 일을 하고 나서 thread 종료 기다림\n",
    "t.start()\n",
    "print('Hello'); print('Hello')\n",
    "t.join()"
   ]
  },
  {
   "cell_type": "markdown",
   "metadata": {},
   "source": [
    "## 여러 thread 생성"
   ]
  },
  {
   "cell_type": "code",
   "execution_count": null,
   "metadata": {},
   "outputs": [],
   "source": [
    "threads_list = []\n",
    "\n",
    "# 반복문으로 여러 thread 생성\n",
    "for i in range(5):\n",
    "    t = threading.Thread(\n",
    "                    target=thread_func,\n",
    "                    name='Thread{}'.format(i),\n",
    "                    args=(3, 'Thread{}'.format(i)))\n",
    "    threads_list.append(t)\n",
    "    print('{} 시작됨'.format(t.name))   # t.name\n",
    "    t.start()\n",
    "    \n",
    "# thread 종료 기다림\n",
    "for t in threads_list:\n",
    "    t.join()\n",
    "print('모든 {}개의 thread들 종료됨'.format(len(threads_list)))"
   ]
  },
  {
   "cell_type": "markdown",
   "metadata": {},
   "source": [
    "## thread 자신에 대한 정보\n",
    "* `threading.currentThread()`: python의 GIL(Global Interpreter Lock) 때문에 어느 한순간 하나의 thread만 실행\n",
    "* `t.getName()`"
   ]
  },
  {
   "cell_type": "code",
   "execution_count": null,
   "metadata": {},
   "outputs": [],
   "source": [
    "def first_function():\n",
    "    print (threading.currentThread().getName() + str(' 스레드 시작'))\n",
    "    time.sleep(3)\n",
    "    print (threading.currentThread().getName() + str( ' 스레드 종료'))\n",
    "\n",
    "def second_function():\n",
    "    print (threading.currentThread().getName() + str(' 스레드 시작'))\n",
    "    # sleep 없음\n",
    "    print (threading.currentThread().getName() + str( ' 스레드 종료'))\n",
    "\n",
    "def third_function():\n",
    "    print (threading.currentThread().getName() + str(' 스레드 시작'))\n",
    "    time.sleep(2)\n",
    "    print (threading.currentThread().getName() + str( ' 스레드 종료'))\n",
    "\n",
    "t1 = threading.Thread(name='first_function', target=first_function)\n",
    "t2 = threading.Thread(name='second_function', target=second_function)\n",
    "t3 = threading.Thread(name='third_function', target=third_function)\n",
    "\n",
    "t1.start(); t2.start(); t3.start()\n",
    "t1.join(); t2.join(); t3.join()"
   ]
  },
  {
   "cell_type": "markdown",
   "metadata": {},
   "source": [
    "## daemon thread\n",
    "* 새로운 thread를 생성할 때, `daemon=True`로 지정 가능\n",
    "* daemon thread인 경우, 메인 thread가 종료되면 즉시 종료\n",
    "* daemon thread가 아닌 경우, 메인 thread가 종료되더라도 자신의 작업이 끝날 때까지 계속 실행\n",
    "\n",
    "----\n",
    "```python\n",
    "import threading\n",
    "import time\n",
    "\n",
    "def first_function():\n",
    "    print (threading.currentThread().getName() + str(' 스레드 시작'))\n",
    "    time.sleep(3)\n",
    "    print (threading.currentThread().getName() + str( ' 스레드 종료'))\n",
    "\n",
    "def second_function():\n",
    "    print (threading.currentThread().getName() + str(' 스레드 시작'))\n",
    "    # sleep 없음\n",
    "    print (threading.currentThread().getName() + str( ' 스레드 종료'))\n",
    "    \n",
    "t_a = threading.Thread(name='first_function', \n",
    "                       target=first_function, \n",
    "                       daemon=True)\n",
    "t_b = threading.Thread(name='second_function', \n",
    "                       target=second_function)\n",
    "\n",
    "t_a.start()\n",
    "t_b.start()\n",
    "```\n",
    "----\n",
    "\n",
    "* (위 코드를 콘솔에서 별도로 실행하면 daemon thread는 자신의 작업이 끝나기 전에 종료됨)"
   ]
  },
  {
   "cell_type": "code",
   "execution_count": null,
   "metadata": {},
   "outputs": [],
   "source": [
    "!python thread_daemon.py"
   ]
  },
  {
   "cell_type": "markdown",
   "metadata": {},
   "source": [
    "## 새로운 thread 클래스 정의\n",
    "* `threading.Thread` 클래스를 상속받아 새로운 클래스 정의\n",
    "* 추가 인수가 필요하면 `__init__(self, args)` 메소드 재정의\n",
    "* thread가 시작할 때 수행할 `run(self, args)` 메소드 재정의"
   ]
  },
  {
   "cell_type": "code",
   "execution_count": null,
   "metadata": {},
   "outputs": [],
   "source": [
    "class MyThread(threading.Thread):\n",
    "    def __init__(self, number, style, *args, **kwargs):\n",
    "        super().__init__(*args, **kwargs)   # 상위 클래스 __init__() 실행\n",
    "        self.number = number\n",
    "        self.style = style\n",
    "\n",
    "    def run(self, *args, **kwargs):\n",
    "        print('Thread{} 시작!'.format(self.number))\n",
    "        super().run(*args, **kwargs)\n",
    "        print('Thread{} 종료!'.format(self.number))\n",
    "\n",
    "def sleeper(num, style):\n",
    "    print('  {}초 동안 잠자기~: {}'.format(num, style))\n",
    "    time.sleep(num)"
   ]
  },
  {
   "cell_type": "code",
   "execution_count": null,
   "metadata": {},
   "outputs": [],
   "source": [
    "threads_list = []\n",
    "\n",
    "for i in range(5):\n",
    "    t = MyThread(number=i, style='argument example', target=sleeper, args=(3, 'dummy'))\n",
    "    threads_list.append(t)\n",
    "    t.start()\n",
    "\n",
    "for t in threads_list:\n",
    "    t.join()"
   ]
  },
  {
   "cell_type": "markdown",
   "metadata": {},
   "source": [
    "## 동기화: `Lock` 사용\n",
    "* 아래 코드를 별도로 실행"
   ]
  },
  {
   "cell_type": "code",
   "execution_count": null,
   "metadata": {},
   "outputs": [],
   "source": [
    "# %load thread_lock.py\n",
    "import threading\n",
    "\n",
    "#### 공유 변수들\n",
    "shared_with_lock = 0\n",
    "shared_with_no_lock = 0\n",
    "COUNT = 100000\n",
    "shared_lock = threading.Lock()  # Lock()\n",
    "\n",
    "#### thread로 실행할 함수들\n",
    "\n",
    "#### LOCK 사용 ##\n",
    "def increment_with_lock():\n",
    "    \"\"\"Lock 걸고나서 1 증가 후 Lock 풀기\"\"\"\n",
    "    global shared_with_lock\n",
    "    for i in range(COUNT):\n",
    "        shared_lock.acquire()  # Lock().acquire()\n",
    "        shared_with_lock += 1\n",
    "        shared_lock.release()  # Lock().release()\n",
    "\n",
    "def decrement_with_lock():\n",
    "    \"\"\"Lock 걸고나서 1 감소 후 Lock 풀기\"\"\"\n",
    "    global shared_with_lock\n",
    "    for i in range(COUNT):\n",
    "        shared_lock.acquire()\n",
    "        shared_with_lock -= 1\n",
    "        shared_lock.release()\n",
    "\n",
    "#### NO LOCK ##\n",
    "def increment_without_lock():\n",
    "    \"\"\"Lock 없이 1 증가\"\"\"\n",
    "    global shared_with_no_lock\n",
    "    for i in range(COUNT):\n",
    "        shared_with_no_lock += 1\n",
    "\n",
    "def decrement_without_lock():\n",
    "    \"\"\"Lock 없이 1 감소\"\"\"\n",
    "    global shared_with_no_lock\n",
    "    for i in range(COUNT):\n",
    "        shared_with_no_lock -= 1\n",
    "\n",
    "#### thread 4개 생성\n",
    "t1 = threading.Thread(target = increment_with_lock)\n",
    "t2 = threading.Thread(target = decrement_with_lock)\n",
    "t3 = threading.Thread(target = increment_without_lock)\n",
    "t4 = threading.Thread(target = decrement_without_lock)\n",
    "\n",
    "#### thread 각각 시작\n",
    "t1.start()\n",
    "t2.start()\n",
    "t3.start()\n",
    "t4.start()\n",
    "\n",
    "#### 각 thread 종료 기다림\n",
    "t1.join()\n",
    "t2.join()\n",
    "t3.join()\n",
    "t4.join()\n",
    "\n",
    "print (\"Lock 사용한 공유 변수의 값 = {}\".format(shared_with_lock))\n",
    "print (\"Lock 사용하지 않은 변수의 값 = {}\".format(shared_with_no_lock))\n"
   ]
  },
  {
   "cell_type": "code",
   "execution_count": null,
   "metadata": {},
   "outputs": [],
   "source": [
    "!python ./thread_lock.py"
   ]
  },
  {
   "cell_type": "markdown",
   "metadata": {},
   "source": [
    "## 동기화: `RLock` 사용\n",
    "* 단순히 lock을 얻고 풀기만 할 경우(아래 코드를 콘솔에서 별도로 실행)"
   ]
  },
  {
   "cell_type": "code",
   "execution_count": null,
   "metadata": {},
   "outputs": [],
   "source": [
    "# %load thread_rlock.py\n",
    "import threading\n",
    "import time\n",
    "\n",
    "class Box(object):\n",
    "    lock = threading.RLock()   # RLock 사용\n",
    "\n",
    "    def __init__(self):\n",
    "        self.total_items = 0\n",
    "\n",
    "    def execute(self, n):\n",
    "        Box.lock.acquire()\n",
    "        self.total_items += n\n",
    "        Box.lock.release()\n",
    "\n",
    "    def add(self):\n",
    "        Box.lock.acquire()   # Lock 잠금\n",
    "        self.execute(1)      # Lock()의 경우, 여기서 또 잠그려고하면 마냥 기다림\n",
    "        Box.lock.release()\n",
    "\n",
    "    def remove(self):\n",
    "        Box.lock.acquire()   # Lock 잠금\n",
    "        self.execute(-1)     # Lock()의 경우, 여기서 또 잠그려고하면 마냥 기다림\n",
    "        Box.lock.release()\n",
    "\n",
    "\n",
    "def adder(box, items):\n",
    "    while items > 0:\n",
    "        print (\"box에 1 더하고, item 1 줄이기\")\n",
    "        box.add()\n",
    "        time.sleep(1)\n",
    "        items -= 1\n",
    "        \n",
    "def remover(box, items):\n",
    "    while items > 0:\n",
    "        print (\"box에 1 빼고, item 1 줄이기\")\n",
    "        box.remove()\n",
    "        time.sleep(1)\n",
    "        items -= 1\n",
    "\n",
    "\n",
    "items = 5\n",
    "print (\"box에 item {}개 넣기\".format(items))\n",
    "\n",
    "box = Box()\n",
    "\n",
    "t1 = threading.Thread(target=adder, args=(box,items))\n",
    "t2 = threading.Thread(target=remover, args=(box,items))\n",
    "\n",
    "t1.start()\n",
    "t2.start()\n",
    "\n",
    "t1.join()\n",
    "t2.join()\n",
    "\n",
    "print (\"box에 {}개 item 남아있음.\".format(box.total_items))\n"
   ]
  },
  {
   "cell_type": "code",
   "execution_count": null,
   "metadata": {},
   "outputs": [],
   "source": [
    "!python thread_rlock.py"
   ]
  },
  {
   "cell_type": "markdown",
   "metadata": {},
   "source": [
    "## 동기화: `Semaphore` 사용"
   ]
  },
  {
   "cell_type": "code",
   "execution_count": null,
   "metadata": {},
   "outputs": [],
   "source": [
    "import threading\n",
    "import time\n",
    "import random\n",
    "\n",
    "## 내부 counter의 초기값\n",
    "semaphore = threading.Semaphore(0)\n",
    "\n",
    "def consumer():\n",
    "    global item\n",
    "    print (\"소비하기를 기다림.\")\n",
    "    ## semaphore 획득\n",
    "    semaphore.acquire()\n",
    "    ## 공유자원 접근\n",
    "    print (\"아이템 번호 {}를 소비함.\".format(item))\n",
    "\n",
    "def producer():\n",
    "    global item\n",
    "    time.sleep(5)\n",
    "    ## 난수 발생\n",
    "    item = random.randint(0, 1000)\n",
    "    print (\"아이템 번호 {}를 생성함.\".format(item))\n",
    "    ## 세마포어 해제: counter 1 증가, 0이되면 다른 스레드는 기다림\n",
    "    semaphore.release()\n",
    "\n",
    "# 세번의 thread 생성 및 시작\n",
    "for i in range (0, 3) :\n",
    "    t1 = threading.Thread(target=producer)\n",
    "    t2 = threading.Thread(target=consumer)\n",
    "    \n",
    "    t1.start()\n",
    "    t2.start()\n",
    "    \n",
    "    t1.join()\n",
    "    t2.join()\n",
    "    \n",
    "print (\"프로그램 종료\")"
   ]
  },
  {
   "cell_type": "markdown",
   "metadata": {},
   "source": [
    "## 동기화: `Condition` 사용\n",
    "* 특정 조건을 만족할 때까지 thread가 기다리도록 하고, 다른 thread가 이 조건이 만족되도록 알려주게 함\n",
    "* 조건이 만족되면 thread는 lock을 획득하여 공유자원을 차지하게 됨"
   ]
  },
  {
   "cell_type": "code",
   "execution_count": null,
   "metadata": {},
   "outputs": [],
   "source": [
    "from threading import Thread, Condition\n",
    "import time\n",
    "\n",
    "items = []\n",
    "condition = Condition()   # Condition\n",
    "\n",
    "class consumer(Thread):\n",
    "    def __init__(self):\n",
    "        Thread.__init__(self)\n",
    "\n",
    "    def consume(self):\n",
    "        global condition\n",
    "        global items\n",
    "        \n",
    "        condition.acquire()    # Lock 획득\n",
    "        if len(items) == 0:\n",
    "            condition.wait()\n",
    "            print(\"소비 알림: 소비할 아이템 없음.\")\n",
    "        items.pop()\n",
    "        print(\"소비 알림: 1개 아이템 소비\")\n",
    "        print(\"소비 알림: 남아있는 소비할 아이템 개수는 \" + str(len(items)))\n",
    "        condition.notify()\n",
    "        condition.release()\n",
    "\n",
    "    def run(self):\n",
    "        for i in range(0, 10):\n",
    "            time.sleep(5)\n",
    "            self.consume()\n",
    "\n",
    "            \n",
    "class producer(Thread):\n",
    "    def __init__(self):\n",
    "        Thread.__init__(self)\n",
    "\n",
    "    def produce(self):\n",
    "        global condition\n",
    "        global items\n",
    "\n",
    "        condition.acquire()\n",
    "        if len(items) == 7:\n",
    "            condition.wait()\n",
    "            print(\"생산 알림: 남아있는 아이템들 개수는 \" + str(len(items)))\n",
    "            print(\"생산 알림: 생산 중지!!\")\n",
    "        items.append(1)\n",
    "        print(\"생산 알림: 현재 남아있는 전체 아이템들 개수는 \" + str(len(items)))\n",
    "        condition.notify()\n",
    "        condition.release()\n",
    "        \n",
    "    def run(self):\n",
    "        for i in range(0, 10):\n",
    "            time.sleep(3)\n",
    "            self.produce()\n",
    "            \n",
    "\n",
    "producer = producer()\n",
    "consumer = consumer()\n",
    "producer.start()\n",
    "consumer.start()\n",
    "producer.join()\n",
    "consumer.join()\n",
    "print(\"프로그램 종료\")"
   ]
  },
  {
   "cell_type": "markdown",
   "metadata": {},
   "source": [
    "## 동기화: `Event` 사용\n",
    "* event는 스레드 간 통신을 위한 객체\n",
    "* 스레드는 다른 스레드가 signal을 출력하는 것을 기다림\n",
    "* event 객체는 내부 flag를 관리하면서 `set()`을 이용하여 `true`로 설정하고, `clear()`를 이용하여 `false`로 변환\n",
    "* `wait()`는 flag가 `true`가 될 때까지 기다림"
   ]
  },
  {
   "cell_type": "code",
   "execution_count": null,
   "metadata": {},
   "outputs": [],
   "source": [
    "import time\n",
    "from threading import Thread, Event\n",
    "import random\n",
    "\n",
    "items = []\n",
    "event = Event()\n",
    "\n",
    "class consumer(Thread):\n",
    "    def __init__(self, items, event):\n",
    "        Thread.__init__(self)\n",
    "        self.items = items\n",
    "        self.event = event\n",
    "\n",
    "    def run(self):\n",
    "        while True:\n",
    "            time.sleep(1)\n",
    "            self.event.wait(3)\n",
    "            try:\n",
    "                item = self.items.pop()\n",
    "            except:\n",
    "                break\n",
    "            print ('소비 알림: {}가 {}를 꺼내 소비함'.format(self.name, item))\n",
    "\n",
    "\n",
    "class producer(Thread):\n",
    "    def __init__(self, integers, event):\n",
    "        Thread.__init__(self)\n",
    "        self.items = items\n",
    "        self.event = event\n",
    "        \n",
    "    def run(self):\n",
    "        global item\n",
    "        for i in range(5):\n",
    "            time.sleep(1)\n",
    "            item = random.randint(0, 256)\n",
    "            self.items.append(item)\n",
    "            print ('생산 알림: {}가 {}를 생산하여 추가함'.format(self.name, item))\n",
    "            print ('생산 알림: {}가 event를 설정함'.format(self.name))\n",
    "            self.event.set()\n",
    "            print ('생산 알림: {}가 event를 해제함'.format(self.name))\n",
    "            self.event.clear()\n",
    "            \n",
    "\n",
    "t1 = producer(items, event)\n",
    "t2 = consumer(items, event)\n",
    "t1.start()\n",
    "t2.start()\n",
    "t1.join()\n",
    "t2.join()\n",
    "print(\"프로그램 종료\")"
   ]
  },
  {
   "cell_type": "markdown",
   "metadata": {},
   "source": [
    "## `with`문 사용하기"
   ]
  },
  {
   "cell_type": "code",
   "execution_count": null,
   "metadata": {},
   "outputs": [],
   "source": [
    "import threading\n",
    "\n",
    "def threading_with(statement):\n",
    "    with statement:\n",
    "        print('{}가 with를 통해 잠금'.format(statement))\n",
    "\n",
    "def threading_not_with(statement):\n",
    "    statement.acquire()\n",
    "    try:\n",
    "        print('{}가 직접 잠금'.format(statement))\n",
    "    finally:\n",
    "        statement.release()\n",
    "\n",
    "\n",
    "lock = threading.Lock()\n",
    "rlock = threading.RLock()\n",
    "condition = threading.Condition()\n",
    "mutex = threading.Semaphore(1)\n",
    "\n",
    "threading_synchronization_list = [lock, rlock, condition, mutex]\n",
    "\n",
    "# with문이 없는 함수와 있는 함수\n",
    "for statement in threading_synchronization_list :\n",
    "    t1 = threading.Thread(target=threading_with, args=(statement,))\n",
    "    t2 = threading.Thread(target=threading_not_with, args=(statement,))\n",
    "\n",
    "    t1.start()\n",
    "    t2.start()\n",
    "    \n",
    "    t1.join()\n",
    "    t2.join()"
   ]
  },
  {
   "cell_type": "markdown",
   "metadata": {},
   "source": [
    "## `Queue`를 이용한 thread 통신\n",
    "* `put()` : 큐에 넣기\n",
    "* `get()` : 큐에서 빼기\n",
    "* `task_done()` : 아이템이 처리될 때마다 호출 필요"
   ]
  },
  {
   "cell_type": "code",
   "execution_count": null,
   "metadata": {},
   "outputs": [],
   "source": [
    "import queue"
   ]
  },
  {
   "cell_type": "code",
   "execution_count": 2,
   "metadata": {},
   "outputs": [
    {
     "name": "stdout",
     "output_type": "stream",
     "text": [
      "5\n",
      "True\n",
      "0  1  2  3  4  "
     ]
    }
   ],
   "source": [
    "q = queue.Queue()   # 큐 생성\n",
    "q.put(5)            # 큐에 5 넣음\n",
    "print(q.get())      # 큐에서 하나 꺼내옴\n",
    "#print(q.get())      # 큐가 비어있을 때 꺼내려고 하면 계속 기다림\n",
    "print(q.empty())    # 큐가 비어있는지 확인\n",
    "\n",
    "for i in range(5):\n",
    "    q.put(i)\n",
    "    \n",
    "while not q.empty():\n",
    "    print(q.get(), end='  ')"
   ]
  },
  {
   "cell_type": "code",
   "execution_count": 4,
   "metadata": {},
   "outputs": [
    {
     "name": "stdout",
     "output_type": "stream",
     "text": [
      "0  1  2  3  4  \n",
      "4  3  2  1  0  \n",
      "0  1  2  3  4  \n",
      "E  A  D  B  C  "
     ]
    }
   ],
   "source": [
    "# FIFO 큐\n",
    "q = queue.Queue()\n",
    "for i in range(5):\n",
    "    q.put(i)\n",
    "while not q.empty():\n",
    "    print(q.get(), end='  ')\n",
    "print('')\n",
    "\n",
    "# LIFO\n",
    "q = queue.LifoQueue()\n",
    "for i in range(5):\n",
    "    q.put(i)\n",
    "while not q.empty():\n",
    "    print(q.get(), end='  ')\n",
    "print('')\n",
    "\n",
    "# PriorityQueue: 숫자\n",
    "q = queue.PriorityQueue()\n",
    "q.put(1); q.put(3); q.put(4); q.put(2); q.put(0)\n",
    "for i in range(q.qsize()):\n",
    "    print(q.get(), end='  ')\n",
    "print('')\n",
    "\n",
    "# PriorityQueue: tuple\n",
    "q = queue.PriorityQueue()\n",
    "q.put((1, 'A')); q.put((3,'B')); q.put((4,'C')); q.put((2,'D')); q.put((0,'E'))\n",
    "for i in range(q.qsize()):\n",
    "    print(q.get()[1], end='  ')"
   ]
  },
  {
   "cell_type": "code",
   "execution_count": 10,
   "metadata": {},
   "outputs": [
    {
     "name": "stdout",
     "output_type": "stream",
     "text": [
      "생산 알림: Thread-16가 아이템 3을 큐에 넣음\n",
      "생산 알림: Thread-16가 아이템 168을 큐에 넣음\n",
      "소비 알림: Thread-17가 아이템 3을 큐에서 꺼냄생산 알림: Thread-16가 아이템 42을 큐에 넣음\n",
      "소비 알림: Thread-18가 아이템 168을 큐에서 꺼냄\n",
      "\n",
      "소비 알림: Thread-19가 아이템 42을 큐에서 꺼냄\n",
      "생산 알림: Thread-16가 아이템 70을 큐에 넣음\n",
      "소비 알림: Thread-18가 아이템 70을 큐에서 꺼냄\n",
      "생산 알림: Thread-16가 아이템 172을 큐에 넣음\n",
      "생산 알림: Thread-16가 아이템 249을 큐에 넣음\n",
      "소비 알림: Thread-18가 아이템 172을 큐에서 꺼냄\n",
      "소비 알림: Thread-17가 아이템 249을 큐에서 꺼냄\n",
      "생산 알림: Thread-16가 아이템 224을 큐에 넣음\n",
      "생산 알림: Thread-16가 아이템 216을 큐에 넣음\n",
      "소비 알림: Thread-17가 아이템 224을 큐에서 꺼냄소비 알림: Thread-18가 아이템 216을 큐에서 꺼냄\n",
      "\n",
      "생산 알림: Thread-16가 아이템 56을 큐에 넣음\n",
      "생산 알림: Thread-16가 아이템 126을 큐에 넣음\n",
      "소비 알림: Thread-17가 아이템 56을 큐에서 꺼냄\n",
      "소비 알림: Thread-19가 아이템 126을 큐에서 꺼냄\n",
      "프로그램 종료\n"
     ]
    }
   ],
   "source": [
    "import threading\n",
    "import queue\n",
    "import time\n",
    "import random\n",
    "\n",
    "class producer(threading.Thread):\n",
    "    def __init__(self, queue):\n",
    "        threading.Thread.__init__(self)\n",
    "        self.queue = queue\n",
    "\n",
    "    def run(self) :\n",
    "        for i in range(10):\n",
    "            item = random.randint(0, 256)\n",
    "            self.queue.put(item)\n",
    "            print ('생산 알림: {}가 아이템 {}을 큐에 넣음'.format(self.name, item))\n",
    "            time.sleep(1)\n",
    "\n",
    "            \n",
    "class consumer(threading.Thread):\n",
    "    def __init__(self, queue):\n",
    "        threading.Thread.__init__(self)\n",
    "        self.queue = queue\n",
    "        \n",
    "    def run(self):\n",
    "        for i in range(10):\n",
    "            try:\n",
    "                time.sleep(2)\n",
    "                item = self.queue.get_nowait()\n",
    "            except:\n",
    "                continue\n",
    "            print ('소비 알림: {}가 아이템 {}을 큐에서 꺼냄'.format(self.name, item))\n",
    "            self.queue.task_done()\n",
    "\n",
    "\n",
    "q = queue.Queue()\n",
    "\n",
    "t1 = producer(q)\n",
    "t2 = consumer(q)\n",
    "t3 = consumer(q)\n",
    "t4 = consumer(q)\n",
    "\n",
    "t1.start()\n",
    "t2.start()\n",
    "t3.start()\n",
    "t4.start()\n",
    "\n",
    "t1.join()\n",
    "t2.join()\n",
    "t3.join()\n",
    "t4.join()\n",
    "\n",
    "print(\"프로그램 종료\")"
   ]
  },
  {
   "cell_type": "markdown",
   "metadata": {},
   "source": [
    "## thread를 사용한 경우 성능 비교"
   ]
  },
  {
   "cell_type": "code",
   "execution_count": 22,
   "metadata": {},
   "outputs": [],
   "source": [
    "from threading import Thread\n",
    "\n",
    "class threads_object(Thread):\n",
    "    def run(self):\n",
    "        function_to_run()\n",
    "        \n",
    "class nothreads_object(object):\n",
    "    def run(self):\n",
    "        function_to_run()\n",
    "        \n",
    "def non_threaded(num_iter):\n",
    "    funcs = []\n",
    "    for i in range(int(num_iter)):\n",
    "        funcs.append(nothreads_object())\n",
    "    for i in funcs:    # 순차적으로 반복 실행\n",
    "        i.run()\n",
    "        \n",
    "def threaded(num_threads):\n",
    "    funcs = []\n",
    "    for i in range(int(num_threads)):\n",
    "        funcs.append(threads_object())\n",
    "    for i in funcs:    # thread 생성해서 실행\n",
    "        i.start()\n",
    "    for i in funcs:\n",
    "        i.join()\n",
    "        \n",
    "def show_results(func_name, results):\n",
    "    print (\"%-23s %4.6f초 소요\" % (func_name, results))"
   ]
  },
  {
   "cell_type": "code",
   "execution_count": 28,
   "metadata": {},
   "outputs": [
    {
     "name": "stdout",
     "output_type": "stream",
     "text": [
      "== 테스트 시작\n",
      "non_threaded (1 iters)  0.000002초 소요\n",
      "threaded (1 threads)    0.000065초 소요\n",
      "non_threaded (2 iters)  0.000002초 소요\n",
      "threaded (2 threads)    0.000121초 소요\n",
      "non_threaded (4 iters)  0.000003초 소요\n",
      "threaded (4 threads)    0.000198초 소요\n",
      "non_threaded (8 iters)  0.000005초 소요\n",
      "threaded (8 threads)    0.000386초 소요\n",
      "== 테스트 끝\n"
     ]
    }
   ],
   "source": [
    "import sys\n",
    "from timeit import Timer\n",
    "\n",
    "repeat = 100\n",
    "number = 1\n",
    "num_threads = [1, 2, 4, 8]\n",
    "\n",
    "def test():\n",
    "    print ('== 테스트 시작')\n",
    "    for i in num_threads:\n",
    "        t = Timer(\"non_threaded(%s)\" % i, globals=globals())\n",
    "        best_result = min(t.repeat(repeat=repeat, number=number))\n",
    "        show_results(\"non_threaded (%s iters)\" % i, best_result)\n",
    "\n",
    "        t = Timer(\"threaded(%s)\" % i, globals=globals())\n",
    "        best_result = min(t.repeat(repeat=repeat, number=number))\n",
    "        show_results(\"threaded (%s threads)\" % i, best_result)\n",
    "\n",
    "    print ('== 테스트 끝')\n",
    "\n",
    "def function_to_run():\n",
    "    pass\n",
    "\n",
    "# 첫번째 테스트\n",
    "test()"
   ]
  },
  {
   "cell_type": "code",
   "execution_count": 29,
   "metadata": {},
   "outputs": [
    {
     "name": "stdout",
     "output_type": "stream",
     "text": [
      "== 테스트 시작\n",
      "non_threaded (1 iters)  0.002993초 소요\n",
      "threaded (1 threads)    0.003216초 소요\n",
      "non_threaded (2 iters)  0.005755초 소요\n",
      "threaded (2 threads)    0.006353초 소요\n",
      "non_threaded (4 iters)  0.011459초 소요\n",
      "threaded (4 threads)    0.012440초 소요\n",
      "non_threaded (8 iters)  0.023909초 소요\n",
      "threaded (8 threads)    0.024854초 소요\n",
      "== 테스트 끝\n"
     ]
    }
   ],
   "source": [
    "def function_to_run():\n",
    "    a, b = 0, 1\n",
    "    for i in range(10000):\n",
    "        a, b = b, a + b\n",
    "\n",
    "# 두번쩨 테스트\n",
    "test()"
   ]
  },
  {
   "cell_type": "code",
   "execution_count": 30,
   "metadata": {},
   "outputs": [
    {
     "name": "stdout",
     "output_type": "stream",
     "text": [
      "== 테스트 시작\n",
      "non_threaded (1 iters)  0.001427초 소요\n",
      "threaded (1 threads)    0.001516초 소요\n",
      "non_threaded (2 iters)  0.002868초 소요\n",
      "threaded (2 threads)    0.003517초 소요\n",
      "non_threaded (4 iters)  0.005796초 소요\n",
      "threaded (4 threads)    0.015509초 소요\n",
      "non_threaded (8 iters)  0.011473초 소요\n",
      "threaded (8 threads)    0.033770초 소요\n",
      "== 테스트 끝\n"
     ]
    }
   ],
   "source": [
    "def function_to_run():\n",
    "    fh = open(\"Parallel_Programming_Thread.ipynb\", \"rb\")\n",
    "    size = 1024\n",
    "    for i in range(1000):\n",
    "        fh.read(size)\n",
    "\n",
    "# 세번째 테스트\n",
    "test()"
   ]
  },
  {
   "cell_type": "code",
   "execution_count": null,
   "metadata": {},
   "outputs": [],
   "source": []
  }
 ],
 "metadata": {
  "kernelspec": {
   "display_name": "Python 3",
   "language": "python",
   "name": "python3"
  },
  "language_info": {
   "codemirror_mode": {
    "name": "ipython",
    "version": 3
   },
   "file_extension": ".py",
   "mimetype": "text/x-python",
   "name": "python",
   "nbconvert_exporter": "python",
   "pygments_lexer": "ipython3",
   "version": "3.5.2"
  }
 },
 "nbformat": 4,
 "nbformat_minor": 2
}
