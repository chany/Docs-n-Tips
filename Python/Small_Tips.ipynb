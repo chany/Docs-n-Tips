{
 "cells": [
  {
   "cell_type": "markdown",
   "metadata": {},
   "source": [
    "# 파이썬 Small Tips and Tricks\n",
    "http://www.techbeamers.com/essential-python-tips-tricks-programmers/"
   ]
  },
  {
   "cell_type": "markdown",
   "metadata": {},
   "source": [
    "## 이름 붙이기 규칙\n",
    "* 클래스\n",
    "  - good: `MyClass`\n",
    "  - bad: `myClass`, `my_class`\n",
    "* 함수, 모듈, 패키지, 변수\n",
    "  - good: `var_underscore_sperate`\n",
    "  - bad: `varCamel`, `VarCamel`\n",
    "* 언더바\n",
    "  - 일반: `var`\n",
    "  - 내부 사용: `_var`\n",
    "  - 키워드와 충돌 방지: `var_`\n",
    "  - 클래스 내 private: `__var`\n",
    "  - 클래스 내 protected: `_var_`\n",
    "  - 속성이나 magic method: `__var__`, `__init__`, `__file__`, `__main__`\n",
    "  - 내부 임시사용하고 버릴 변수: \n",
    "    * `[_ for _ in range(10)]`\n",
    "    * `for _, a in [(1,2),(3,4)]: print(a)`"
   ]
  },
  {
   "cell_type": "markdown",
   "metadata": {},
   "source": [
    "## 두 숫자 변수 바꾸기"
   ]
  },
  {
   "cell_type": "code",
   "execution_count": 1,
   "metadata": {},
   "outputs": [
    {
     "name": "stdout",
     "output_type": "stream",
     "text": [
      "Before:  10 20\n",
      "After:  20 10\n"
     ]
    }
   ],
   "source": [
    "x, y = 10, 20\n",
    "print('Before: ', x, y)\n",
    "\n",
    "x, y = y, x\n",
    "print('After: ', x, y)"
   ]
  },
  {
   "cell_type": "markdown",
   "metadata": {},
   "source": [
    "## 비교 연산 연결"
   ]
  },
  {
   "cell_type": "code",
   "execution_count": 2,
   "metadata": {},
   "outputs": [
    {
     "name": "stdout",
     "output_type": "stream",
     "text": [
      "True\n",
      "False\n"
     ]
    }
   ],
   "source": [
    "n = 10\n",
    "result = 1 < n < 20\n",
    "print(result)\n",
    "\n",
    "result = 1 > n <= 9\n",
    "print(result)"
   ]
  },
  {
   "cell_type": "markdown",
   "metadata": {},
   "source": [
    "## 한줄에 `if-else` 연산\n",
    "* [참인 경우] if [조건] else [거짓인 경우]\n",
    "* x = (classA if y==1 else classB)(param1, param2)"
   ]
  },
  {
   "cell_type": "code",
   "execution_count": 3,
   "metadata": {},
   "outputs": [
    {
     "name": "stdout",
     "output_type": "stream",
     "text": [
      "20\n"
     ]
    }
   ],
   "source": [
    "x = 10 if y==9 else 20\n",
    "print(x)"
   ]
  },
  {
   "cell_type": "code",
   "execution_count": 4,
   "metadata": {},
   "outputs": [
    {
     "name": "stdout",
     "output_type": "stream",
     "text": [
      "0\n",
      "1\n",
      "2\n",
      "3\n"
     ]
    }
   ],
   "source": [
    "def small(a, b, c):\n",
    "    return a if a<=b and a<=c else (b if b<=a and b<=c else c)\n",
    "\n",
    "print(small(1, 0, 1))\n",
    "print(small(1, 2, 2))\n",
    "print(small(2, 2, 3))\n",
    "print(small(5, 4, 3))"
   ]
  },
  {
   "cell_type": "code",
   "execution_count": 5,
   "metadata": {},
   "outputs": [
    {
     "data": {
      "text/plain": [
       "[0, 1, 16, 81, 256, 625, 36, 49, 64, 81]"
      ]
     },
     "execution_count": 5,
     "metadata": {},
     "output_type": "execute_result"
    }
   ],
   "source": [
    "[m**2 if m>5 else m**4 for m in range(10)]"
   ]
  },
  {
   "cell_type": "markdown",
   "metadata": {},
   "source": [
    "## 여러 줄 문자열"
   ]
  },
  {
   "cell_type": "code",
   "execution_count": 6,
   "metadata": {},
   "outputs": [
    {
     "name": "stdout",
     "output_type": "stream",
     "text": [
      "select * from multi_row where row_id < 5\n"
     ]
    }
   ],
   "source": [
    "multiStr = \"select * from multi_row \\\n",
    "where row_id < 5\"\n",
    "print(multiStr)"
   ]
  },
  {
   "cell_type": "code",
   "execution_count": 7,
   "metadata": {},
   "outputs": [
    {
     "name": "stdout",
     "output_type": "stream",
     "text": [
      "select * from multi_row\n",
      "where row_id < 5\n"
     ]
    }
   ],
   "source": [
    "multiStr = \"\"\"select * from multi_row\n",
    "where row_id < 5\"\"\"\n",
    "print(multiStr)"
   ]
  },
  {
   "cell_type": "code",
   "execution_count": 8,
   "metadata": {},
   "outputs": [
    {
     "name": "stdout",
     "output_type": "stream",
     "text": [
      "select * from multi_row where row_id < 5order by age\n"
     ]
    }
   ],
   "source": [
    "multiStr = (\"select * from multi_row \"\n",
    "\"where row_id < 5\"\n",
    "\"order by age\")\n",
    "print(multiStr)"
   ]
  },
  {
   "cell_type": "markdown",
   "metadata": {},
   "source": [
    "## 리스트 원소를 각 변수에 할당"
   ]
  },
  {
   "cell_type": "code",
   "execution_count": 9,
   "metadata": {},
   "outputs": [
    {
     "name": "stdout",
     "output_type": "stream",
     "text": [
      "1 2 3\n"
     ]
    }
   ],
   "source": [
    "l = [1, 2, 3]\n",
    "x, y, z = l\n",
    "print(x, y, z)"
   ]
  },
  {
   "cell_type": "markdown",
   "metadata": {},
   "source": [
    "## import한 모듈의 파일 경로 찾기"
   ]
  },
  {
   "cell_type": "code",
   "execution_count": 10,
   "metadata": {},
   "outputs": [
    {
     "name": "stdout",
     "output_type": "stream",
     "text": [
      "<module 'threading' from '/usr/lib/python3.5/threading.py'>\n",
      "<module 'socket' from '/usr/lib/python3.5/socket.py'>\n"
     ]
    }
   ],
   "source": [
    "import threading\n",
    "import socket\n",
    "\n",
    "print(threading)\n",
    "print(socket)"
   ]
  },
  {
   "cell_type": "markdown",
   "metadata": {},
   "source": [
    "## 임시 변수 '_'\n",
    "마지막 수행했던 결과"
   ]
  },
  {
   "cell_type": "code",
   "execution_count": 11,
   "metadata": {},
   "outputs": [
    {
     "data": {
      "text/plain": [
       "3"
      ]
     },
     "execution_count": 11,
     "metadata": {},
     "output_type": "execute_result"
    }
   ],
   "source": [
    "2 + 1"
   ]
  },
  {
   "cell_type": "code",
   "execution_count": 12,
   "metadata": {},
   "outputs": [
    {
     "name": "stdout",
     "output_type": "stream",
     "text": [
      "3\n"
     ]
    }
   ],
   "source": [
    "print(_)"
   ]
  },
  {
   "cell_type": "markdown",
   "metadata": {},
   "source": [
    "## dictionary/set comprehension"
   ]
  },
  {
   "cell_type": "code",
   "execution_count": 13,
   "metadata": {},
   "outputs": [
    {
     "name": "stdout",
     "output_type": "stream",
     "text": [
      "{0: 0, 1: 1, 2: 4, 3: 9, 4: 16, 5: 25, 6: 36, 7: 49, 8: 64, 9: 81}\n",
      "{0, 2, 4, 6, 8, 10, 12, 14, 16, 18}\n"
     ]
    }
   ],
   "source": [
    "testDict = {i: i*i for i in range(10)}\n",
    "testSet = {i*2 for i in range(10)}\n",
    "\n",
    "print(testDict)\n",
    "print(testSet)"
   ]
  },
  {
   "cell_type": "markdown",
   "metadata": {},
   "source": [
    "## 디버깅하기\n",
    "* breakpoint 지정\n",
    "```python\n",
    "import pdb\n",
    "pdb.set_trace()```"
   ]
  },
  {
   "cell_type": "markdown",
   "metadata": {},
   "source": [
    "## enumaration\n",
    "인덱스 찾기 쉬움"
   ]
  },
  {
   "cell_type": "code",
   "execution_count": 14,
   "metadata": {},
   "outputs": [
    {
     "name": "stdout",
     "output_type": "stream",
     "text": [
      "0 5\n",
      "1 6\n",
      "2 7\n",
      "3 8\n",
      "4 9\n"
     ]
    }
   ],
   "source": [
    "# https://freepythontips.wordpress.com/2015/04/19/nifty-python-tricks/\n",
    "iterable = range(5,10)\n",
    "i = 0 \n",
    "for item in iterable: \n",
    "    print(i, item)\n",
    "    i += 1"
   ]
  },
  {
   "cell_type": "code",
   "execution_count": 15,
   "metadata": {},
   "outputs": [
    {
     "name": "stdout",
     "output_type": "stream",
     "text": [
      "0 5\n",
      "1 6\n",
      "2 7\n",
      "3 8\n",
      "4 9\n"
     ]
    }
   ],
   "source": [
    "for i, item in enumerate(iterable):\n",
    "    print(i, item)"
   ]
  },
  {
   "cell_type": "code",
   "execution_count": 16,
   "metadata": {},
   "outputs": [
    {
     "name": "stdout",
     "output_type": "stream",
     "text": [
      "0 :  10\n",
      "1 :  20\n",
      "2 :  30\n"
     ]
    }
   ],
   "source": [
    "testlist = [10, 20, 30]\n",
    "for i, val in enumerate(testlist):\n",
    "    print(i, ': ', val)"
   ]
  },
  {
   "cell_type": "markdown",
   "metadata": {},
   "source": [
    "## C의 `enum`과 유사한 기능"
   ]
  },
  {
   "cell_type": "code",
   "execution_count": 17,
   "metadata": {},
   "outputs": [
    {
     "name": "stdout",
     "output_type": "stream",
     "text": [
      "0\n",
      "1\n",
      "2\n",
      "3\n"
     ]
    }
   ],
   "source": [
    "class Shapes:\n",
    "    Circle, Square, Triangle, Quadrangle = range(4)\n",
    "\n",
    "print(Shapes.Circle)\n",
    "print(Shapes.Square)\n",
    "print(Shapes.Triangle)\n",
    "print(Shapes.Quadrangle)"
   ]
  },
  {
   "cell_type": "markdown",
   "metadata": {},
   "source": [
    "## 불특정 인수 사용"
   ]
  },
  {
   "cell_type": "code",
   "execution_count": 18,
   "metadata": {},
   "outputs": [
    {
     "name": "stdout",
     "output_type": "stream",
     "text": [
      "x z y\n",
      "1 2 3\n",
      "10 20 30\n"
     ]
    }
   ],
   "source": [
    "def test(x, y, z):\n",
    "    print(x, y, z)\n",
    "\n",
    "testDict = {'x': 1, 'y': 2, 'z': 3} \n",
    "testList = [10, 20, 30]\n",
    " \n",
    "test(*testDict)\n",
    "test(**testDict)\n",
    "test(*testList)"
   ]
  },
  {
   "cell_type": "markdown",
   "metadata": {
    "collapsed": true
   },
   "source": [
    "## `switch-case` 흉내내기\n",
    "* 파이썬에는 `switch`문이 없으므로 다음과 같이 활용 가능"
   ]
  },
  {
   "cell_type": "code",
   "execution_count": 19,
   "metadata": {},
   "outputs": [
    {
     "name": "stdout",
     "output_type": "stream",
     "text": [
      "12\n",
      "6\n"
     ]
    }
   ],
   "source": [
    "calc = {\n",
    "    'sum': lambda x, y: x + y,\n",
    "    'sub': lambda x, y: x - y\n",
    "}\n",
    "\n",
    "print(calc['sum'](9, 3))\n",
    "print(calc['sub'](9, 3))"
   ]
  },
  {
   "cell_type": "code",
   "execution_count": 20,
   "metadata": {},
   "outputs": [
    {
     "name": "stdout",
     "output_type": "stream",
     "text": [
      "two:  arbitrary argument\n"
     ]
    }
   ],
   "source": [
    "def one(x):\n",
    "    print('one: ', x)\n",
    "    \n",
    "def two(x):\n",
    "    print('two: ', x)\n",
    "    \n",
    "def three(x):\n",
    "    print('three: ', x)\n",
    "\n",
    "options = {'case1':one, 'case2':two, 'case3':three}\n",
    "\n",
    "#options[case](x)\n",
    "case = 'case2'\n",
    "options[case]('arbitrary argument')"
   ]
  },
  {
   "cell_type": "markdown",
   "metadata": {},
   "source": [
    "## 리스트에서 가장 많은 원소 찾아내기"
   ]
  },
  {
   "cell_type": "code",
   "execution_count": 21,
   "metadata": {},
   "outputs": [
    {
     "name": "stdout",
     "output_type": "stream",
     "text": [
      "4\n"
     ]
    }
   ],
   "source": [
    "test = [1,2,3,4,2,2,3,1,4,4,4]\n",
    "print(max(set(test), key=test.count))"
   ]
  },
  {
   "cell_type": "markdown",
   "metadata": {},
   "source": [
    "## 객체의 메모리 사용량 파악: `sys.getsizeof()`"
   ]
  },
  {
   "cell_type": "code",
   "execution_count": 22,
   "metadata": {},
   "outputs": [
    {
     "name": "stdout",
     "output_type": "stream",
     "text": [
      "28\n"
     ]
    }
   ],
   "source": [
    "import sys\n",
    "\n",
    "x = 1\n",
    "print(sys.getsizeof(x))"
   ]
  },
  {
   "cell_type": "markdown",
   "metadata": {},
   "source": [
    "## `__slots__` 사용으로 메모리 부담 덜기"
   ]
  },
  {
   "cell_type": "code",
   "execution_count": 23,
   "metadata": {},
   "outputs": [
    {
     "name": "stdout",
     "output_type": "stream",
     "text": [
      "1016\n",
      "888\n"
     ]
    }
   ],
   "source": [
    "import sys\n",
    "\n",
    "class FileSystem1(object):\n",
    "    def __init__(self, files, folders, devices):\n",
    "        self.files = files\n",
    "        self.folders = folders\n",
    "        self.devices = devices\n",
    "\n",
    "print(sys.getsizeof( FileSystem1 ))\n",
    "\n",
    "\n",
    "class FileSystem2(object):\n",
    "    __slots__ = ['files', 'folders', 'devices']\n",
    "    def __init__(self, files, folders, devices):\n",
    "        self.files = files\n",
    "        self.folders = folders\n",
    "        self.devices = devices\n",
    "\n",
    "print(sys.getsizeof( FileSystem2 ))"
   ]
  },
  {
   "cell_type": "markdown",
   "metadata": {},
   "source": [
    "## 관련있는 두 시퀀스로 dictionary 만들기"
   ]
  },
  {
   "cell_type": "code",
   "execution_count": 24,
   "metadata": {},
   "outputs": [
    {
     "name": "stdout",
     "output_type": "stream",
     "text": [
      "{1: 10, 2: 20, 3: 30}\n"
     ]
    }
   ],
   "source": [
    "t1 = (1, 2, 3)\n",
    "t2 = (10, 20, 30)\n",
    "\n",
    "print(dict(zip(t1, t2)))"
   ]
  },
  {
   "cell_type": "markdown",
   "metadata": {},
   "source": [
    "## flatening list of lists"
   ]
  },
  {
   "cell_type": "code",
   "execution_count": 25,
   "metadata": {},
   "outputs": [
    {
     "name": "stdout",
     "output_type": "stream",
     "text": [
      "[-1, -2, 30, 40, 25, 35]\n"
     ]
    }
   ],
   "source": [
    "import itertools\n",
    "\n",
    "test = [[-1, -2], [30, 40], [25, 35]]\n",
    "print(list(itertools.chain.from_iterable(test)))"
   ]
  },
  {
   "cell_type": "markdown",
   "metadata": {},
   "source": [
    "## `else` 사용예 5가지\n",
    "* http://www.idiotinside.com/2015/10/18/5-methods-to-use-else-block-in-python/"
   ]
  },
  {
   "cell_type": "markdown",
   "metadata": {},
   "source": [
    "#### 1. 일반적인 `if-else`"
   ]
  },
  {
   "cell_type": "code",
   "execution_count": 26,
   "metadata": {},
   "outputs": [
    {
     "name": "stdout",
     "output_type": "stream",
     "text": [
      "x is true\n"
     ]
    }
   ],
   "source": [
    "x = True\n",
    "\n",
    "if x:\n",
    "    print('x is true')\n",
    "else:\n",
    "    print('x is not true')"
   ]
  },
  {
   "cell_type": "markdown",
   "metadata": {},
   "source": [
    "#### 2. 짧은 `if-else`"
   ]
  },
  {
   "cell_type": "code",
   "execution_count": 27,
   "metadata": {},
   "outputs": [
    {
     "name": "stdout",
     "output_type": "stream",
     "text": [
      "Pass? False\n"
     ]
    }
   ],
   "source": [
    "mark = 40\n",
    "is_pass = True if mark >= 50 else False\n",
    "print(\"Pass? \" + str(is_pass))"
   ]
  },
  {
   "cell_type": "markdown",
   "metadata": {},
   "source": [
    "#### 3. `for-else`"
   ]
  },
  {
   "cell_type": "code",
   "execution_count": 28,
   "metadata": {},
   "outputs": [
    {
     "name": "stdout",
     "output_type": "stream",
     "text": [
      "0\n",
      "1\n",
      "2\n",
      "3\n",
      "4\n",
      "For loop completed the execution without break\n"
     ]
    }
   ],
   "source": [
    "for i in range(5):\n",
    "    print(i)\n",
    "else:\n",
    "    print('For loop completed the execution without break')"
   ]
  },
  {
   "cell_type": "markdown",
   "metadata": {},
   "source": [
    "#### 4. `while-else`"
   ]
  },
  {
   "cell_type": "code",
   "execution_count": 29,
   "metadata": {},
   "outputs": [
    {
     "name": "stdout",
     "output_type": "stream",
     "text": [
      "0\n",
      "1\n",
      "2\n",
      "3\n",
      "4\n",
      "While loop execution completed without break\n"
     ]
    }
   ],
   "source": [
    "a = 0\n",
    "loop = 0\n",
    "while a < 5:\n",
    "    print(a)\n",
    "    loop += 1\n",
    "    a += 1\n",
    "else:\n",
    "    print(\"While loop execution completed without break\")"
   ]
  },
  {
   "cell_type": "markdown",
   "metadata": {},
   "source": [
    "#### 5. `try-except-else`"
   ]
  },
  {
   "cell_type": "code",
   "execution_count": 30,
   "metadata": {},
   "outputs": [
    {
     "name": "stdout",
     "output_type": "stream",
     "text": [
      "cannot open result.txt\n"
     ]
    }
   ],
   "source": [
    "file_name = \"result.txt\"\n",
    "try:\n",
    "    f = open(file_name, 'r')\n",
    "except IOError:\n",
    "    print('cannot open', file_name)\n",
    "else:\n",
    "    # 예외가 발생하지 않은 경우만 실행됨\n",
    "    print(file_name, 'has', len(f.readlines()), 'lines')\n",
    "    f.close()"
   ]
  },
  {
   "cell_type": "code",
   "execution_count": null,
   "metadata": {},
   "outputs": [],
   "source": []
  }
 ],
 "metadata": {
  "kernelspec": {
   "display_name": "Python 3",
   "language": "python",
   "name": "python3"
  },
  "language_info": {
   "codemirror_mode": {
    "name": "ipython",
    "version": 3
   },
   "file_extension": ".py",
   "mimetype": "text/x-python",
   "name": "python",
   "nbconvert_exporter": "python",
   "pygments_lexer": "ipython3",
   "version": "3.5.2"
  }
 },
 "nbformat": 4,
 "nbformat_minor": 1
}
